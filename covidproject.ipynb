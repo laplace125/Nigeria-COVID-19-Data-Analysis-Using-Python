{
 "cells": [
  {
   "cell_type": "markdown",
   "metadata": {},
   "source": [
    "### Task 1 - Data Collection\n",
    "Here you will obtain the required data for the analysis. As described in the project instructions, you will perform a web scrap to obtain data from the NCDC website, import data from the John Hopkins repository, and import the provided external data.\n"
   ]
  },
  {
   "cell_type": "markdown",
   "metadata": {},
   "source": [
    "### A - NCDC Website scrap\n",
    "Website - https://covid19.ncdc.gov.ng/"
   ]
  },
  {
   "cell_type": "code",
   "execution_count": 1,
   "metadata": {},
   "outputs": [],
   "source": [
    "# Write Your Code Below\n",
    "# Import all libraries in this cell\n",
    "import requests\n",
    "import numpy as np\n",
    "import urllib.request\n",
    "import pandas as pd\n",
    "import csv\n",
    "from bs4 import BeautifulSoup\n",
    "import seaborn as sns\n",
    "sns.set_style(\"darkgrid\")\n",
    "import matplotlib.pyplot as plt\n",
    "%matplotlib inline\n",
    "plt.style.use('fivethirtyeight')  \n",
    "import warnings\n",
    "warnings.filterwarnings('ignore')"
   ]
  },
  {
   "cell_type": "code",
   "execution_count": 2,
   "metadata": {},
   "outputs": [],
   "source": [
    "ncdc_covid_data1 =pd.read_html('https://covid19.ncdc.gov.ng/')\n",
    "ncdc_covid_data = ncdc_covid_data1[0]"
   ]
  },
  {
   "cell_type": "markdown",
   "metadata": {},
   "source": [
    "### B - John Hopkins Data Repository\n",
    "Here you will obtain data from the John Hopkins repository. Your task here involves saving the data from the GitHub repo link to DataFrame for further analysis. Find the links below. \n",
    "* Global Daily Confirmed Cases - Click [Here](https://github.com/CSSEGISandData/COVID-19/blob/master/csse_covid_19_data/csse_covid_19_time_series/time_series_covid19_confirmed_global.csv)\n",
    "* Global Daily Recovered Cases - Click [Here](https://github.com/CSSEGISandData/COVID-19/blob/master/csse_covid_19_data/csse_covid_19_time_series/time_series_covid19_recovered_global.csv)\n",
    "* Global Daily Death Cases - Click [Here](https://github.com/CSSEGISandData/COVID-19/blob/master/csse_covid_19_data/csse_covid_19_time_series/time_series_covid19_deaths_global.csv)"
   ]
  },
  {
   "cell_type": "code",
   "execution_count": 3,
   "metadata": {},
   "outputs": [],
   "source": [
    "#JOHN HOPKINS GLOBAL DATA CONFIRMED CASES = JHGDCC\n",
    "JHGDCC = pd.read_csv('https://raw.githubusercontent.com/CSSEGISandData/COVID-19/master/csse_covid_19_data/csse_covid_19_time_series/time_series_covid19_confirmed_global.csv')"
   ]
  },
  {
   "cell_type": "code",
   "execution_count": 4,
   "metadata": {},
   "outputs": [],
   "source": [
    "#JOHN HOPKINS GLOBAL DATA RECOVERED CASES = JHGDRC\n",
    "JHGDRC = pd.read_csv('https://raw.githubusercontent.com/CSSEGISandData/COVID-19/master/csse_covid_19_data/csse_covid_19_time_series/time_series_covid19_recovered_global.csv')"
   ]
  },
  {
   "cell_type": "code",
   "execution_count": 5,
   "metadata": {},
   "outputs": [],
   "source": [
    "#JOHN HOPKINS GLOBAL DATA DEATH CASES =JHGDDC\n",
    "JHGDDC = pd.read_csv('https://raw.githubusercontent.com/CSSEGISandData/COVID-19/master/csse_covid_19_data/csse_covid_19_time_series/time_series_covid19_deaths_global.csv')"
   ]
  },
  {
   "cell_type": "code",
   "execution_count": 6,
   "metadata": {},
   "outputs": [
    {
     "data": {
      "text/html": [
       "<div>\n",
       "<style scoped>\n",
       "    .dataframe tbody tr th:only-of-type {\n",
       "        vertical-align: middle;\n",
       "    }\n",
       "\n",
       "    .dataframe tbody tr th {\n",
       "        vertical-align: top;\n",
       "    }\n",
       "\n",
       "    .dataframe thead th {\n",
       "        text-align: right;\n",
       "    }\n",
       "</style>\n",
       "<table border=\"1\" class=\"dataframe\">\n",
       "  <thead>\n",
       "    <tr style=\"text-align: right;\">\n",
       "      <th></th>\n",
       "      <th>203</th>\n",
       "    </tr>\n",
       "  </thead>\n",
       "  <tbody>\n",
       "    <tr>\n",
       "      <th>4/18/22</th>\n",
       "      <td>3143</td>\n",
       "    </tr>\n",
       "    <tr>\n",
       "      <th>4/19/22</th>\n",
       "      <td>3143</td>\n",
       "    </tr>\n",
       "    <tr>\n",
       "      <th>4/20/22</th>\n",
       "      <td>3143</td>\n",
       "    </tr>\n",
       "    <tr>\n",
       "      <th>4/21/22</th>\n",
       "      <td>3143</td>\n",
       "    </tr>\n",
       "    <tr>\n",
       "      <th>4/22/22</th>\n",
       "      <td>3143</td>\n",
       "    </tr>\n",
       "  </tbody>\n",
       "</table>\n",
       "</div>"
      ],
      "text/plain": [
       "          203\n",
       "4/18/22  3143\n",
       "4/19/22  3143\n",
       "4/20/22  3143\n",
       "4/21/22  3143\n",
       "4/22/22  3143"
      ]
     },
     "execution_count": 6,
     "metadata": {},
     "output_type": "execute_result"
    }
   ],
   "source": [
    "#NIGERIA DAILY DEATH CASES\n",
    "JHGDDC.loc[JHGDDC['Country/Region']=='Nigeria'].T.tail()"
   ]
  },
  {
   "cell_type": "code",
   "execution_count": 7,
   "metadata": {},
   "outputs": [
    {
     "data": {
      "text/html": [
       "<div>\n",
       "<style scoped>\n",
       "    .dataframe tbody tr th:only-of-type {\n",
       "        vertical-align: middle;\n",
       "    }\n",
       "\n",
       "    .dataframe tbody tr th {\n",
       "        vertical-align: top;\n",
       "    }\n",
       "\n",
       "    .dataframe thead th {\n",
       "        text-align: right;\n",
       "    }\n",
       "</style>\n",
       "<table border=\"1\" class=\"dataframe\">\n",
       "  <thead>\n",
       "    <tr style=\"text-align: right;\">\n",
       "      <th></th>\n",
       "      <th>203</th>\n",
       "    </tr>\n",
       "  </thead>\n",
       "  <tbody>\n",
       "    <tr>\n",
       "      <th>4/18/22</th>\n",
       "      <td>255648</td>\n",
       "    </tr>\n",
       "    <tr>\n",
       "      <th>4/19/22</th>\n",
       "      <td>255670</td>\n",
       "    </tr>\n",
       "    <tr>\n",
       "      <th>4/20/22</th>\n",
       "      <td>255670</td>\n",
       "    </tr>\n",
       "    <tr>\n",
       "      <th>4/21/22</th>\n",
       "      <td>255679</td>\n",
       "    </tr>\n",
       "    <tr>\n",
       "      <th>4/22/22</th>\n",
       "      <td>255685</td>\n",
       "    </tr>\n",
       "  </tbody>\n",
       "</table>\n",
       "</div>"
      ],
      "text/plain": [
       "            203\n",
       "4/18/22  255648\n",
       "4/19/22  255670\n",
       "4/20/22  255670\n",
       "4/21/22  255679\n",
       "4/22/22  255685"
      ]
     },
     "execution_count": 7,
     "metadata": {},
     "output_type": "execute_result"
    }
   ],
   "source": [
    "#NIGERIA DAILY CONFIRMED CASES\n",
    "JHGDCC.loc[JHGDCC['Country/Region']=='Nigeria'].T.tail()"
   ]
  },
  {
   "cell_type": "code",
   "execution_count": 8,
   "metadata": {},
   "outputs": [
    {
     "data": {
      "text/html": [
       "<div>\n",
       "<style scoped>\n",
       "    .dataframe tbody tr th:only-of-type {\n",
       "        vertical-align: middle;\n",
       "    }\n",
       "\n",
       "    .dataframe tbody tr th {\n",
       "        vertical-align: top;\n",
       "    }\n",
       "\n",
       "    .dataframe thead th {\n",
       "        text-align: right;\n",
       "    }\n",
       "</style>\n",
       "<table border=\"1\" class=\"dataframe\">\n",
       "  <thead>\n",
       "    <tr style=\"text-align: right;\">\n",
       "      <th></th>\n",
       "      <th>188</th>\n",
       "    </tr>\n",
       "  </thead>\n",
       "  <tbody>\n",
       "    <tr>\n",
       "      <th>4/18/22</th>\n",
       "      <td>0</td>\n",
       "    </tr>\n",
       "    <tr>\n",
       "      <th>4/19/22</th>\n",
       "      <td>0</td>\n",
       "    </tr>\n",
       "    <tr>\n",
       "      <th>4/20/22</th>\n",
       "      <td>0</td>\n",
       "    </tr>\n",
       "    <tr>\n",
       "      <th>4/21/22</th>\n",
       "      <td>0</td>\n",
       "    </tr>\n",
       "    <tr>\n",
       "      <th>4/22/22</th>\n",
       "      <td>0</td>\n",
       "    </tr>\n",
       "  </tbody>\n",
       "</table>\n",
       "</div>"
      ],
      "text/plain": [
       "        188\n",
       "4/18/22   0\n",
       "4/19/22   0\n",
       "4/20/22   0\n",
       "4/21/22   0\n",
       "4/22/22   0"
      ]
     },
     "execution_count": 8,
     "metadata": {},
     "output_type": "execute_result"
    }
   ],
   "source": [
    "#NIGERIA DAILY RECOVERED CASES\n",
    "JHGDRC.loc[JHGDRC['Country/Region']=='Nigeria'].T.tail()"
   ]
  },
  {
   "cell_type": "markdown",
   "metadata": {},
   "source": [
    "### C - External Data \n",
    "* Save the external data to a DataFrame\n",
    "* External Data includes but not limited to: `covid_external.csv`, `Budget data.csv`, `RealGDP.csv`"
   ]
  },
  {
   "cell_type": "code",
   "execution_count": 9,
   "metadata": {},
   "outputs": [],
   "source": [
    "covid_external = pd.read_csv('https://raw.githubusercontent.com/laplace125/Nigeria-COVID-19-Data-Analysis-Using-Python/main/covid_external.csv')\n",
    "Budget_data = pd.read_csv('https://raw.githubusercontent.com/laplace125/Nigeria-COVID-19-Data-Analysis-Using-Python/main/Budget%20data.csv')\n",
    "RealGDP= pd.read_csv('https://raw.githubusercontent.com/laplace125/Nigeria-COVID-19-Data-Analysis-Using-Python/main/RealGDP.csv')\n",
    "covidNig = pd.read_csv('https://raw.githubusercontent.com/laplace125/Nigeria-COVID-19-Data-Analysis-Using-Python/main/covidnig.csv')"
   ]
  },
  {
   "cell_type": "markdown",
   "metadata": {},
   "source": [
    "### Task 2 - View the data\n",
    "Obtain basic information about the data using the `head()` and `info()` method."
   ]
  },
  {
   "cell_type": "code",
   "execution_count": 10,
   "metadata": {},
   "outputs": [
    {
     "data": {
      "text/html": [
       "<div>\n",
       "<style scoped>\n",
       "    .dataframe tbody tr th:only-of-type {\n",
       "        vertical-align: middle;\n",
       "    }\n",
       "\n",
       "    .dataframe tbody tr th {\n",
       "        vertical-align: top;\n",
       "    }\n",
       "\n",
       "    .dataframe thead th {\n",
       "        text-align: right;\n",
       "    }\n",
       "</style>\n",
       "<table border=\"1\" class=\"dataframe\">\n",
       "  <thead>\n",
       "    <tr style=\"text-align: right;\">\n",
       "      <th></th>\n",
       "      <th>states</th>\n",
       "      <th>region</th>\n",
       "      <th>Population</th>\n",
       "      <th>Overall CCVI Index</th>\n",
       "      <th>Age</th>\n",
       "      <th>Epidemiological</th>\n",
       "      <th>Fragility</th>\n",
       "      <th>Health System</th>\n",
       "      <th>Population Density</th>\n",
       "      <th>Socio-Economic</th>\n",
       "      <th>Transport Availability</th>\n",
       "      <th>Acute IHR</th>\n",
       "    </tr>\n",
       "  </thead>\n",
       "  <tbody>\n",
       "    <tr>\n",
       "      <th>0</th>\n",
       "      <td>FCT</td>\n",
       "      <td>North Central</td>\n",
       "      <td>4865000</td>\n",
       "      <td>0.3</td>\n",
       "      <td>0.0</td>\n",
       "      <td>0.9</td>\n",
       "      <td>0.4</td>\n",
       "      <td>0.6</td>\n",
       "      <td>0.9</td>\n",
       "      <td>0.6</td>\n",
       "      <td>0.2</td>\n",
       "      <td>0.79</td>\n",
       "    </tr>\n",
       "    <tr>\n",
       "      <th>1</th>\n",
       "      <td>Plateau</td>\n",
       "      <td>North Central</td>\n",
       "      <td>4766000</td>\n",
       "      <td>0.4</td>\n",
       "      <td>0.5</td>\n",
       "      <td>0.4</td>\n",
       "      <td>0.8</td>\n",
       "      <td>0.3</td>\n",
       "      <td>0.3</td>\n",
       "      <td>0.5</td>\n",
       "      <td>0.3</td>\n",
       "      <td>0.93</td>\n",
       "    </tr>\n",
       "    <tr>\n",
       "      <th>2</th>\n",
       "      <td>Kwara</td>\n",
       "      <td>North Central</td>\n",
       "      <td>3524000</td>\n",
       "      <td>0.3</td>\n",
       "      <td>0.4</td>\n",
       "      <td>0.3</td>\n",
       "      <td>0.2</td>\n",
       "      <td>0.4</td>\n",
       "      <td>0.2</td>\n",
       "      <td>0.6</td>\n",
       "      <td>0.7</td>\n",
       "      <td>0.93</td>\n",
       "    </tr>\n",
       "    <tr>\n",
       "      <th>3</th>\n",
       "      <td>Nassarawa</td>\n",
       "      <td>North Central</td>\n",
       "      <td>2783000</td>\n",
       "      <td>0.1</td>\n",
       "      <td>0.3</td>\n",
       "      <td>0.5</td>\n",
       "      <td>0.9</td>\n",
       "      <td>0.0</td>\n",
       "      <td>0.1</td>\n",
       "      <td>0.6</td>\n",
       "      <td>0.5</td>\n",
       "      <td>0.85</td>\n",
       "    </tr>\n",
       "    <tr>\n",
       "      <th>4</th>\n",
       "      <td>Niger</td>\n",
       "      <td>North Central</td>\n",
       "      <td>6260000</td>\n",
       "      <td>0.6</td>\n",
       "      <td>0.0</td>\n",
       "      <td>0.6</td>\n",
       "      <td>0.3</td>\n",
       "      <td>0.7</td>\n",
       "      <td>0.1</td>\n",
       "      <td>0.8</td>\n",
       "      <td>0.8</td>\n",
       "      <td>0.84</td>\n",
       "    </tr>\n",
       "  </tbody>\n",
       "</table>\n",
       "</div>"
      ],
      "text/plain": [
       "      states         region  Population  Overall CCVI Index  Age  \\\n",
       "0        FCT  North Central     4865000                 0.3  0.0   \n",
       "1    Plateau  North Central     4766000                 0.4  0.5   \n",
       "2      Kwara  North Central     3524000                 0.3  0.4   \n",
       "3  Nassarawa  North Central     2783000                 0.1  0.3   \n",
       "4      Niger  North Central     6260000                 0.6  0.0   \n",
       "\n",
       "   Epidemiological  Fragility  Health System  Population Density  \\\n",
       "0              0.9        0.4            0.6                 0.9   \n",
       "1              0.4        0.8            0.3                 0.3   \n",
       "2              0.3        0.2            0.4                 0.2   \n",
       "3              0.5        0.9            0.0                 0.1   \n",
       "4              0.6        0.3            0.7                 0.1   \n",
       "\n",
       "   Socio-Economic   Transport Availability  Acute IHR  \n",
       "0             0.6                      0.2       0.79  \n",
       "1             0.5                      0.3       0.93  \n",
       "2             0.6                      0.7       0.93  \n",
       "3             0.6                      0.5       0.85  \n",
       "4             0.8                      0.8       0.84  "
      ]
     },
     "execution_count": 10,
     "metadata": {},
     "output_type": "execute_result"
    }
   ],
   "source": [
    "covid_external.head()"
   ]
  },
  {
   "cell_type": "code",
   "execution_count": 11,
   "metadata": {},
   "outputs": [
    {
     "name": "stdout",
     "output_type": "stream",
     "text": [
      "<class 'pandas.core.frame.DataFrame'>\n",
      "RangeIndex: 37 entries, 0 to 36\n",
      "Data columns (total 12 columns):\n",
      " #   Column                   Non-Null Count  Dtype  \n",
      "---  ------                   --------------  -----  \n",
      " 0   states                   37 non-null     object \n",
      " 1   region                   37 non-null     object \n",
      " 2   Population               37 non-null     int64  \n",
      " 3   Overall CCVI Index       37 non-null     float64\n",
      " 4   Age                      37 non-null     float64\n",
      " 5   Epidemiological          37 non-null     float64\n",
      " 6   Fragility                37 non-null     float64\n",
      " 7   Health System            37 non-null     float64\n",
      " 8   Population Density       37 non-null     float64\n",
      " 9   Socio-Economic           37 non-null     float64\n",
      " 10   Transport Availability  37 non-null     float64\n",
      " 11  Acute IHR                37 non-null     float64\n",
      "dtypes: float64(9), int64(1), object(2)\n",
      "memory usage: 3.6+ KB\n"
     ]
    }
   ],
   "source": [
    "covid_external.info()"
   ]
  },
  {
   "cell_type": "code",
   "execution_count": 12,
   "metadata": {},
   "outputs": [
    {
     "data": {
      "text/html": [
       "<div>\n",
       "<style scoped>\n",
       "    .dataframe tbody tr th:only-of-type {\n",
       "        vertical-align: middle;\n",
       "    }\n",
       "\n",
       "    .dataframe tbody tr th {\n",
       "        vertical-align: top;\n",
       "    }\n",
       "\n",
       "    .dataframe thead th {\n",
       "        text-align: right;\n",
       "    }\n",
       "</style>\n",
       "<table border=\"1\" class=\"dataframe\">\n",
       "  <thead>\n",
       "    <tr style=\"text-align: right;\">\n",
       "      <th></th>\n",
       "      <th>states</th>\n",
       "      <th>Initial_budget (Bn)</th>\n",
       "      <th>Revised_budget (Bn)</th>\n",
       "    </tr>\n",
       "  </thead>\n",
       "  <tbody>\n",
       "    <tr>\n",
       "      <th>0</th>\n",
       "      <td>Abia</td>\n",
       "      <td>136.60</td>\n",
       "      <td>102.70</td>\n",
       "    </tr>\n",
       "    <tr>\n",
       "      <th>1</th>\n",
       "      <td>Adamawa</td>\n",
       "      <td>183.30</td>\n",
       "      <td>139.31</td>\n",
       "    </tr>\n",
       "    <tr>\n",
       "      <th>2</th>\n",
       "      <td>Akwa-Ibom</td>\n",
       "      <td>597.73</td>\n",
       "      <td>366.00</td>\n",
       "    </tr>\n",
       "    <tr>\n",
       "      <th>3</th>\n",
       "      <td>Anambra</td>\n",
       "      <td>137.10</td>\n",
       "      <td>112.80</td>\n",
       "    </tr>\n",
       "    <tr>\n",
       "      <th>4</th>\n",
       "      <td>Bauchi</td>\n",
       "      <td>167.20</td>\n",
       "      <td>128.00</td>\n",
       "    </tr>\n",
       "  </tbody>\n",
       "</table>\n",
       "</div>"
      ],
      "text/plain": [
       "      states  Initial_budget (Bn)  Revised_budget (Bn)\n",
       "0       Abia               136.60               102.70\n",
       "1    Adamawa               183.30               139.31\n",
       "2  Akwa-Ibom               597.73               366.00\n",
       "3    Anambra               137.10               112.80\n",
       "4     Bauchi               167.20               128.00"
      ]
     },
     "execution_count": 12,
     "metadata": {},
     "output_type": "execute_result"
    }
   ],
   "source": [
    "Budget_data.head()"
   ]
  },
  {
   "cell_type": "code",
   "execution_count": 13,
   "metadata": {},
   "outputs": [
    {
     "name": "stdout",
     "output_type": "stream",
     "text": [
      "<class 'pandas.core.frame.DataFrame'>\n",
      "RangeIndex: 37 entries, 0 to 36\n",
      "Data columns (total 3 columns):\n",
      " #   Column               Non-Null Count  Dtype  \n",
      "---  ------               --------------  -----  \n",
      " 0   states               37 non-null     object \n",
      " 1   Initial_budget (Bn)  37 non-null     float64\n",
      " 2   Revised_budget (Bn)  37 non-null     float64\n",
      "dtypes: float64(2), object(1)\n",
      "memory usage: 1016.0+ bytes\n"
     ]
    }
   ],
   "source": [
    "Budget_data.info()"
   ]
  },
  {
   "cell_type": "code",
   "execution_count": 14,
   "metadata": {},
   "outputs": [
    {
     "data": {
      "text/html": [
       "<div>\n",
       "<style scoped>\n",
       "    .dataframe tbody tr th:only-of-type {\n",
       "        vertical-align: middle;\n",
       "    }\n",
       "\n",
       "    .dataframe tbody tr th {\n",
       "        vertical-align: top;\n",
       "    }\n",
       "\n",
       "    .dataframe thead th {\n",
       "        text-align: right;\n",
       "    }\n",
       "</style>\n",
       "<table border=\"1\" class=\"dataframe\">\n",
       "  <thead>\n",
       "    <tr style=\"text-align: right;\">\n",
       "      <th></th>\n",
       "      <th>Year</th>\n",
       "      <th>Q1</th>\n",
       "      <th>Q2</th>\n",
       "      <th>Q3</th>\n",
       "      <th>Q4</th>\n",
       "    </tr>\n",
       "  </thead>\n",
       "  <tbody>\n",
       "    <tr>\n",
       "      <th>0</th>\n",
       "      <td>2014</td>\n",
       "      <td>15438679.50</td>\n",
       "      <td>16084622.31</td>\n",
       "      <td>17479127.58</td>\n",
       "      <td>18150356.45</td>\n",
       "    </tr>\n",
       "    <tr>\n",
       "      <th>1</th>\n",
       "      <td>2015</td>\n",
       "      <td>16050601.38</td>\n",
       "      <td>16463341.91</td>\n",
       "      <td>17976234.59</td>\n",
       "      <td>18533752.07</td>\n",
       "    </tr>\n",
       "    <tr>\n",
       "      <th>2</th>\n",
       "      <td>2016</td>\n",
       "      <td>15943714.54</td>\n",
       "      <td>16218542.41</td>\n",
       "      <td>17555441.69</td>\n",
       "      <td>18213537.29</td>\n",
       "    </tr>\n",
       "    <tr>\n",
       "      <th>3</th>\n",
       "      <td>2017</td>\n",
       "      <td>15797965.83</td>\n",
       "      <td>16334719.27</td>\n",
       "      <td>17760228.17</td>\n",
       "      <td>18598067.07</td>\n",
       "    </tr>\n",
       "    <tr>\n",
       "      <th>4</th>\n",
       "      <td>2018</td>\n",
       "      <td>16096654.19</td>\n",
       "      <td>16580508.07</td>\n",
       "      <td>18081342.10</td>\n",
       "      <td>19041437.59</td>\n",
       "    </tr>\n",
       "  </tbody>\n",
       "</table>\n",
       "</div>"
      ],
      "text/plain": [
       "   Year           Q1           Q2           Q3           Q4\n",
       "0  2014  15438679.50  16084622.31  17479127.58  18150356.45\n",
       "1  2015  16050601.38  16463341.91  17976234.59  18533752.07\n",
       "2  2016  15943714.54  16218542.41  17555441.69  18213537.29\n",
       "3  2017  15797965.83  16334719.27  17760228.17  18598067.07\n",
       "4  2018  16096654.19  16580508.07  18081342.10  19041437.59"
      ]
     },
     "execution_count": 14,
     "metadata": {},
     "output_type": "execute_result"
    }
   ],
   "source": [
    "RealGDP.head()"
   ]
  },
  {
   "cell_type": "code",
   "execution_count": 15,
   "metadata": {},
   "outputs": [
    {
     "name": "stdout",
     "output_type": "stream",
     "text": [
      "<class 'pandas.core.frame.DataFrame'>\n",
      "RangeIndex: 7 entries, 0 to 6\n",
      "Data columns (total 5 columns):\n",
      " #   Column  Non-Null Count  Dtype  \n",
      "---  ------  --------------  -----  \n",
      " 0   Year    7 non-null      int64  \n",
      " 1   Q1      7 non-null      float64\n",
      " 2   Q2      7 non-null      float64\n",
      " 3   Q3      7 non-null      float64\n",
      " 4   Q4      7 non-null      float64\n",
      "dtypes: float64(4), int64(1)\n",
      "memory usage: 408.0 bytes\n"
     ]
    }
   ],
   "source": [
    "RealGDP.info()"
   ]
  },
  {
   "cell_type": "code",
   "execution_count": 16,
   "metadata": {},
   "outputs": [
    {
     "data": {
      "text/html": [
       "<div>\n",
       "<style scoped>\n",
       "    .dataframe tbody tr th:only-of-type {\n",
       "        vertical-align: middle;\n",
       "    }\n",
       "\n",
       "    .dataframe tbody tr th {\n",
       "        vertical-align: top;\n",
       "    }\n",
       "\n",
       "    .dataframe thead th {\n",
       "        text-align: right;\n",
       "    }\n",
       "</style>\n",
       "<table border=\"1\" class=\"dataframe\">\n",
       "  <thead>\n",
       "    <tr style=\"text-align: right;\">\n",
       "      <th></th>\n",
       "      <th>States Affected</th>\n",
       "      <th>No. of Cases (Lab Confirmed)</th>\n",
       "      <th>No. of Cases (on admission)</th>\n",
       "      <th>No. Discharged</th>\n",
       "      <th>No. of Deaths</th>\n",
       "    </tr>\n",
       "  </thead>\n",
       "  <tbody>\n",
       "    <tr>\n",
       "      <th>0</th>\n",
       "      <td>Lagos</td>\n",
       "      <td>26,708</td>\n",
       "      <td>2,435</td>\n",
       "      <td>24,037</td>\n",
       "      <td>236</td>\n",
       "    </tr>\n",
       "    <tr>\n",
       "      <th>1</th>\n",
       "      <td>FCT</td>\n",
       "      <td>9,627</td>\n",
       "      <td>2,840</td>\n",
       "      <td>6,694</td>\n",
       "      <td>93</td>\n",
       "    </tr>\n",
       "    <tr>\n",
       "      <th>2</th>\n",
       "      <td>Kaduna</td>\n",
       "      <td>4,504</td>\n",
       "      <td>579</td>\n",
       "      <td>3,877</td>\n",
       "      <td>48</td>\n",
       "    </tr>\n",
       "    <tr>\n",
       "      <th>3</th>\n",
       "      <td>Plateau</td>\n",
       "      <td>4,262</td>\n",
       "      <td>280</td>\n",
       "      <td>3,948</td>\n",
       "      <td>34</td>\n",
       "    </tr>\n",
       "    <tr>\n",
       "      <th>4</th>\n",
       "      <td>Oyo</td>\n",
       "      <td>3,788</td>\n",
       "      <td>368</td>\n",
       "      <td>3,374</td>\n",
       "      <td>46</td>\n",
       "    </tr>\n",
       "  </tbody>\n",
       "</table>\n",
       "</div>"
      ],
      "text/plain": [
       "  States Affected No. of Cases (Lab Confirmed) No. of Cases (on admission)  \\\n",
       "0           Lagos                       26,708                       2,435   \n",
       "1             FCT                        9,627                       2,840   \n",
       "2          Kaduna                        4,504                         579   \n",
       "3         Plateau                        4,262                         280   \n",
       "4             Oyo                        3,788                         368   \n",
       "\n",
       "  No. Discharged  No. of Deaths  \n",
       "0         24,037            236  \n",
       "1          6,694             93  \n",
       "2          3,877             48  \n",
       "3          3,948             34  \n",
       "4          3,374             46  "
      ]
     },
     "execution_count": 16,
     "metadata": {},
     "output_type": "execute_result"
    }
   ],
   "source": [
    "covidNig.head()"
   ]
  },
  {
   "cell_type": "code",
   "execution_count": 17,
   "metadata": {},
   "outputs": [
    {
     "name": "stdout",
     "output_type": "stream",
     "text": [
      "<class 'pandas.core.frame.DataFrame'>\n",
      "RangeIndex: 37 entries, 0 to 36\n",
      "Data columns (total 5 columns):\n",
      " #   Column                        Non-Null Count  Dtype \n",
      "---  ------                        --------------  ----- \n",
      " 0   States Affected               37 non-null     object\n",
      " 1   No. of Cases (Lab Confirmed)  37 non-null     object\n",
      " 2   No. of Cases (on admission)   37 non-null     object\n",
      " 3   No. Discharged                37 non-null     object\n",
      " 4   No. of Deaths                 37 non-null     int64 \n",
      "dtypes: int64(1), object(4)\n",
      "memory usage: 1.6+ KB\n"
     ]
    }
   ],
   "source": [
    "covidNig.info()"
   ]
  },
  {
   "cell_type": "code",
   "execution_count": 18,
   "metadata": {},
   "outputs": [
    {
     "data": {
      "text/html": [
       "<div>\n",
       "<style scoped>\n",
       "    .dataframe tbody tr th:only-of-type {\n",
       "        vertical-align: middle;\n",
       "    }\n",
       "\n",
       "    .dataframe tbody tr th {\n",
       "        vertical-align: top;\n",
       "    }\n",
       "\n",
       "    .dataframe thead th {\n",
       "        text-align: right;\n",
       "    }\n",
       "</style>\n",
       "<table border=\"1\" class=\"dataframe\">\n",
       "  <thead>\n",
       "    <tr style=\"text-align: right;\">\n",
       "      <th></th>\n",
       "      <th>No. of Deaths</th>\n",
       "    </tr>\n",
       "  </thead>\n",
       "  <tbody>\n",
       "    <tr>\n",
       "      <th>count</th>\n",
       "      <td>37.000000</td>\n",
       "    </tr>\n",
       "    <tr>\n",
       "      <th>mean</th>\n",
       "      <td>33.000000</td>\n",
       "    </tr>\n",
       "    <tr>\n",
       "      <th>std</th>\n",
       "      <td>41.797794</td>\n",
       "    </tr>\n",
       "    <tr>\n",
       "      <th>min</th>\n",
       "      <td>2.000000</td>\n",
       "    </tr>\n",
       "    <tr>\n",
       "      <th>25%</th>\n",
       "      <td>11.000000</td>\n",
       "    </tr>\n",
       "    <tr>\n",
       "      <th>50%</th>\n",
       "      <td>21.000000</td>\n",
       "    </tr>\n",
       "    <tr>\n",
       "      <th>75%</th>\n",
       "      <td>36.000000</td>\n",
       "    </tr>\n",
       "    <tr>\n",
       "      <th>max</th>\n",
       "      <td>236.000000</td>\n",
       "    </tr>\n",
       "  </tbody>\n",
       "</table>\n",
       "</div>"
      ],
      "text/plain": [
       "       No. of Deaths\n",
       "count      37.000000\n",
       "mean       33.000000\n",
       "std        41.797794\n",
       "min         2.000000\n",
       "25%        11.000000\n",
       "50%        21.000000\n",
       "75%        36.000000\n",
       "max       236.000000"
      ]
     },
     "execution_count": 18,
     "metadata": {},
     "output_type": "execute_result"
    }
   ],
   "source": [
    "covidNig.describe()"
   ]
  },
  {
   "cell_type": "markdown",
   "metadata": {},
   "source": [
    "### Task 3 - Data Cleaning and Preparation\n",
    "From the information obtained above, you will need to fix the data format. \n",
    "<br>\n",
    "Examples: \n",
    "* Convert to appropriate data type.\n",
    "* Rename the columns of the scraped data.\n",
    "* Remove comma(,) in numerical data\n",
    "* Extract daily data for Nigeria from the Global daily cases data"
   ]
  },
  {
   "cell_type": "markdown",
   "metadata": {},
   "source": [
    "TODO A - Clean the scraped data"
   ]
  },
  {
   "cell_type": "code",
   "execution_count": 19,
   "metadata": {},
   "outputs": [],
   "source": [
    "covidNig['No. of Cases (Lab Confirmed)'] = covidNig['No. of Cases (Lab Confirmed)'].str.replace(',' , '').astype(float)\n",
    "covidNig['No. of Cases (on admission)'] = covidNig['No. of Cases (on admission)'].str.replace(',' , '').astype(float)\n",
    "covidNig['No. Discharged'] = covidNig['No. Discharged'].str.replace(',' , '').astype(float)"
   ]
  },
  {
   "cell_type": "code",
   "execution_count": 20,
   "metadata": {},
   "outputs": [
    {
     "data": {
      "text/html": [
       "<div>\n",
       "<style scoped>\n",
       "    .dataframe tbody tr th:only-of-type {\n",
       "        vertical-align: middle;\n",
       "    }\n",
       "\n",
       "    .dataframe tbody tr th {\n",
       "        vertical-align: top;\n",
       "    }\n",
       "\n",
       "    .dataframe thead th {\n",
       "        text-align: right;\n",
       "    }\n",
       "</style>\n",
       "<table border=\"1\" class=\"dataframe\">\n",
       "  <thead>\n",
       "    <tr style=\"text-align: right;\">\n",
       "      <th></th>\n",
       "      <th>States Affected</th>\n",
       "      <th>No. of Cases (Lab Confirmed)</th>\n",
       "      <th>No. of Cases (on admission)</th>\n",
       "      <th>No. Discharged</th>\n",
       "      <th>No. of Deaths</th>\n",
       "    </tr>\n",
       "  </thead>\n",
       "  <tbody>\n",
       "    <tr>\n",
       "      <th>0</th>\n",
       "      <td>Lagos</td>\n",
       "      <td>26708.0</td>\n",
       "      <td>2435.0</td>\n",
       "      <td>24037.0</td>\n",
       "      <td>236</td>\n",
       "    </tr>\n",
       "    <tr>\n",
       "      <th>1</th>\n",
       "      <td>FCT</td>\n",
       "      <td>9627.0</td>\n",
       "      <td>2840.0</td>\n",
       "      <td>6694.0</td>\n",
       "      <td>93</td>\n",
       "    </tr>\n",
       "    <tr>\n",
       "      <th>2</th>\n",
       "      <td>Kaduna</td>\n",
       "      <td>4504.0</td>\n",
       "      <td>579.0</td>\n",
       "      <td>3877.0</td>\n",
       "      <td>48</td>\n",
       "    </tr>\n",
       "    <tr>\n",
       "      <th>3</th>\n",
       "      <td>Plateau</td>\n",
       "      <td>4262.0</td>\n",
       "      <td>280.0</td>\n",
       "      <td>3948.0</td>\n",
       "      <td>34</td>\n",
       "    </tr>\n",
       "    <tr>\n",
       "      <th>4</th>\n",
       "      <td>Oyo</td>\n",
       "      <td>3788.0</td>\n",
       "      <td>368.0</td>\n",
       "      <td>3374.0</td>\n",
       "      <td>46</td>\n",
       "    </tr>\n",
       "  </tbody>\n",
       "</table>\n",
       "</div>"
      ],
      "text/plain": [
       "  States Affected  No. of Cases (Lab Confirmed)  No. of Cases (on admission)  \\\n",
       "0           Lagos                       26708.0                       2435.0   \n",
       "1             FCT                        9627.0                       2840.0   \n",
       "2          Kaduna                        4504.0                        579.0   \n",
       "3         Plateau                        4262.0                        280.0   \n",
       "4             Oyo                        3788.0                        368.0   \n",
       "\n",
       "   No. Discharged  No. of Deaths  \n",
       "0         24037.0            236  \n",
       "1          6694.0             93  \n",
       "2          3877.0             48  \n",
       "3          3948.0             34  \n",
       "4          3374.0             46  "
      ]
     },
     "execution_count": 20,
     "metadata": {},
     "output_type": "execute_result"
    }
   ],
   "source": [
    "covidNig.head()"
   ]
  },
  {
   "cell_type": "markdown",
   "metadata": {},
   "source": [
    "TODO B - Get a Pandas DataFrame for Daily Confirmed Cases in Nigeria. Columns are Date and Cases"
   ]
  },
  {
   "cell_type": "code",
   "execution_count": 21,
   "metadata": {},
   "outputs": [],
   "source": [
    "#NIGERIA DAILY CONFIRMED CASES\n",
    "Nigeria_daily_confirmed1 = JHGDCC.loc[JHGDCC['Country/Region']=='Nigeria'].T"
   ]
  },
  {
   "cell_type": "code",
   "execution_count": 22,
   "metadata": {},
   "outputs": [
    {
     "data": {
      "text/html": [
       "<div>\n",
       "<style scoped>\n",
       "    .dataframe tbody tr th:only-of-type {\n",
       "        vertical-align: middle;\n",
       "    }\n",
       "\n",
       "    .dataframe tbody tr th {\n",
       "        vertical-align: top;\n",
       "    }\n",
       "\n",
       "    .dataframe thead th {\n",
       "        text-align: right;\n",
       "    }\n",
       "</style>\n",
       "<table border=\"1\" class=\"dataframe\">\n",
       "  <thead>\n",
       "    <tr style=\"text-align: right;\">\n",
       "      <th></th>\n",
       "      <th>203</th>\n",
       "    </tr>\n",
       "  </thead>\n",
       "  <tbody>\n",
       "    <tr>\n",
       "      <th>1/22/20</th>\n",
       "      <td>0</td>\n",
       "    </tr>\n",
       "    <tr>\n",
       "      <th>1/23/20</th>\n",
       "      <td>0</td>\n",
       "    </tr>\n",
       "    <tr>\n",
       "      <th>1/24/20</th>\n",
       "      <td>0</td>\n",
       "    </tr>\n",
       "    <tr>\n",
       "      <th>1/25/20</th>\n",
       "      <td>0</td>\n",
       "    </tr>\n",
       "    <tr>\n",
       "      <th>1/26/20</th>\n",
       "      <td>0</td>\n",
       "    </tr>\n",
       "  </tbody>\n",
       "</table>\n",
       "</div>"
      ],
      "text/plain": [
       "        203\n",
       "1/22/20   0\n",
       "1/23/20   0\n",
       "1/24/20   0\n",
       "1/25/20   0\n",
       "1/26/20   0"
      ]
     },
     "execution_count": 22,
     "metadata": {},
     "output_type": "execute_result"
    }
   ],
   "source": [
    "Nigeria_daily_confirmed = Nigeria_daily_confirmed1.iloc[4: , :]\n",
    "Nigeria_daily_confirmed.head()"
   ]
  },
  {
   "cell_type": "code",
   "execution_count": 23,
   "metadata": {},
   "outputs": [],
   "source": [
    "#RESET INDEX THEN RENAME TO DATE AND CASES\n",
    "Nigeria_daily_confirmed.reset_index(inplace=True)\n",
    "Nigeria_daily_confirmed.rename(columns = {'index' : 'Date' , 203:'Cases'} , inplace = True)"
   ]
  },
  {
   "cell_type": "code",
   "execution_count": 111,
   "metadata": {},
   "outputs": [
    {
     "data": {
      "text/html": [
       "<div>\n",
       "<style scoped>\n",
       "    .dataframe tbody tr th:only-of-type {\n",
       "        vertical-align: middle;\n",
       "    }\n",
       "\n",
       "    .dataframe tbody tr th {\n",
       "        vertical-align: top;\n",
       "    }\n",
       "\n",
       "    .dataframe thead th {\n",
       "        text-align: right;\n",
       "    }\n",
       "</style>\n",
       "<table border=\"1\" class=\"dataframe\">\n",
       "  <thead>\n",
       "    <tr style=\"text-align: right;\">\n",
       "      <th></th>\n",
       "      <th>Date</th>\n",
       "      <th>Cases</th>\n",
       "      <th>Daily_Infection</th>\n",
       "    </tr>\n",
       "  </thead>\n",
       "  <tbody>\n",
       "    <tr>\n",
       "      <th>0</th>\n",
       "      <td>1/22/20</td>\n",
       "      <td>0</td>\n",
       "      <td>NaN</td>\n",
       "    </tr>\n",
       "    <tr>\n",
       "      <th>1</th>\n",
       "      <td>1/23/20</td>\n",
       "      <td>0</td>\n",
       "      <td>0</td>\n",
       "    </tr>\n",
       "    <tr>\n",
       "      <th>2</th>\n",
       "      <td>1/24/20</td>\n",
       "      <td>0</td>\n",
       "      <td>0</td>\n",
       "    </tr>\n",
       "    <tr>\n",
       "      <th>3</th>\n",
       "      <td>1/25/20</td>\n",
       "      <td>0</td>\n",
       "      <td>0</td>\n",
       "    </tr>\n",
       "    <tr>\n",
       "      <th>4</th>\n",
       "      <td>1/26/20</td>\n",
       "      <td>0</td>\n",
       "      <td>0</td>\n",
       "    </tr>\n",
       "  </tbody>\n",
       "</table>\n",
       "</div>"
      ],
      "text/plain": [
       "      Date Cases Daily_Infection\n",
       "0  1/22/20     0             NaN\n",
       "1  1/23/20     0               0\n",
       "2  1/24/20     0               0\n",
       "3  1/25/20     0               0\n",
       "4  1/26/20     0               0"
      ]
     },
     "execution_count": 111,
     "metadata": {},
     "output_type": "execute_result"
    }
   ],
   "source": [
    "#FIRST FIVE DATAPOINTS OF NIGERIA DAILY CONFIRMED CASES AND DATE:\n",
    "Nigeria_daily_confirmed.head()"
   ]
  },
  {
   "cell_type": "code",
   "execution_count": 112,
   "metadata": {},
   "outputs": [
    {
     "data": {
      "text/html": [
       "<div>\n",
       "<style scoped>\n",
       "    .dataframe tbody tr th:only-of-type {\n",
       "        vertical-align: middle;\n",
       "    }\n",
       "\n",
       "    .dataframe tbody tr th {\n",
       "        vertical-align: top;\n",
       "    }\n",
       "\n",
       "    .dataframe thead th {\n",
       "        text-align: right;\n",
       "    }\n",
       "</style>\n",
       "<table border=\"1\" class=\"dataframe\">\n",
       "  <thead>\n",
       "    <tr style=\"text-align: right;\">\n",
       "      <th></th>\n",
       "      <th>Date</th>\n",
       "      <th>Cases</th>\n",
       "      <th>Daily_Infection</th>\n",
       "    </tr>\n",
       "  </thead>\n",
       "  <tbody>\n",
       "    <tr>\n",
       "      <th>817</th>\n",
       "      <td>4/18/22</td>\n",
       "      <td>255648</td>\n",
       "      <td>0</td>\n",
       "    </tr>\n",
       "    <tr>\n",
       "      <th>818</th>\n",
       "      <td>4/19/22</td>\n",
       "      <td>255670</td>\n",
       "      <td>22</td>\n",
       "    </tr>\n",
       "    <tr>\n",
       "      <th>819</th>\n",
       "      <td>4/20/22</td>\n",
       "      <td>255670</td>\n",
       "      <td>0</td>\n",
       "    </tr>\n",
       "    <tr>\n",
       "      <th>820</th>\n",
       "      <td>4/21/22</td>\n",
       "      <td>255679</td>\n",
       "      <td>9</td>\n",
       "    </tr>\n",
       "    <tr>\n",
       "      <th>821</th>\n",
       "      <td>4/22/22</td>\n",
       "      <td>255685</td>\n",
       "      <td>6</td>\n",
       "    </tr>\n",
       "  </tbody>\n",
       "</table>\n",
       "</div>"
      ],
      "text/plain": [
       "        Date   Cases Daily_Infection\n",
       "817  4/18/22  255648               0\n",
       "818  4/19/22  255670              22\n",
       "819  4/20/22  255670               0\n",
       "820  4/21/22  255679               9\n",
       "821  4/22/22  255685               6"
      ]
     },
     "execution_count": 112,
     "metadata": {},
     "output_type": "execute_result"
    }
   ],
   "source": [
    "Nigeria_daily_confirmed.tail()"
   ]
  },
  {
   "cell_type": "markdown",
   "metadata": {},
   "source": [
    "TODO C - Get a Pandas DataFrame for Daily Recovered Cases in Nigeria. Columns are Date and Cases"
   ]
  },
  {
   "cell_type": "code",
   "execution_count": 25,
   "metadata": {},
   "outputs": [],
   "source": [
    "#NIGERIA DAILY RECOVERED CASES\n",
    "Nigeria_daily_recovered1 = JHGDRC.loc[JHGDRC['Country/Region']=='Nigeria'].T"
   ]
  },
  {
   "cell_type": "code",
   "execution_count": 26,
   "metadata": {},
   "outputs": [
    {
     "data": {
      "text/html": [
       "<div>\n",
       "<style scoped>\n",
       "    .dataframe tbody tr th:only-of-type {\n",
       "        vertical-align: middle;\n",
       "    }\n",
       "\n",
       "    .dataframe tbody tr th {\n",
       "        vertical-align: top;\n",
       "    }\n",
       "\n",
       "    .dataframe thead th {\n",
       "        text-align: right;\n",
       "    }\n",
       "</style>\n",
       "<table border=\"1\" class=\"dataframe\">\n",
       "  <thead>\n",
       "    <tr style=\"text-align: right;\">\n",
       "      <th></th>\n",
       "      <th>188</th>\n",
       "    </tr>\n",
       "  </thead>\n",
       "  <tbody>\n",
       "    <tr>\n",
       "      <th>Province/State</th>\n",
       "      <td>NaN</td>\n",
       "    </tr>\n",
       "    <tr>\n",
       "      <th>Country/Region</th>\n",
       "      <td>Nigeria</td>\n",
       "    </tr>\n",
       "    <tr>\n",
       "      <th>Lat</th>\n",
       "      <td>9.082</td>\n",
       "    </tr>\n",
       "    <tr>\n",
       "      <th>Long</th>\n",
       "      <td>8.6753</td>\n",
       "    </tr>\n",
       "    <tr>\n",
       "      <th>1/22/20</th>\n",
       "      <td>0</td>\n",
       "    </tr>\n",
       "  </tbody>\n",
       "</table>\n",
       "</div>"
      ],
      "text/plain": [
       "                    188\n",
       "Province/State      NaN\n",
       "Country/Region  Nigeria\n",
       "Lat               9.082\n",
       "Long             8.6753\n",
       "1/22/20               0"
      ]
     },
     "execution_count": 26,
     "metadata": {},
     "output_type": "execute_result"
    }
   ],
   "source": [
    "Nigeria_daily_recovered1.head()"
   ]
  },
  {
   "cell_type": "code",
   "execution_count": 27,
   "metadata": {},
   "outputs": [
    {
     "data": {
      "text/html": [
       "<div>\n",
       "<style scoped>\n",
       "    .dataframe tbody tr th:only-of-type {\n",
       "        vertical-align: middle;\n",
       "    }\n",
       "\n",
       "    .dataframe tbody tr th {\n",
       "        vertical-align: top;\n",
       "    }\n",
       "\n",
       "    .dataframe thead th {\n",
       "        text-align: right;\n",
       "    }\n",
       "</style>\n",
       "<table border=\"1\" class=\"dataframe\">\n",
       "  <thead>\n",
       "    <tr style=\"text-align: right;\">\n",
       "      <th></th>\n",
       "      <th>188</th>\n",
       "    </tr>\n",
       "  </thead>\n",
       "  <tbody>\n",
       "    <tr>\n",
       "      <th>1/22/20</th>\n",
       "      <td>0</td>\n",
       "    </tr>\n",
       "    <tr>\n",
       "      <th>1/23/20</th>\n",
       "      <td>0</td>\n",
       "    </tr>\n",
       "    <tr>\n",
       "      <th>1/24/20</th>\n",
       "      <td>0</td>\n",
       "    </tr>\n",
       "    <tr>\n",
       "      <th>1/25/20</th>\n",
       "      <td>0</td>\n",
       "    </tr>\n",
       "    <tr>\n",
       "      <th>1/26/20</th>\n",
       "      <td>0</td>\n",
       "    </tr>\n",
       "  </tbody>\n",
       "</table>\n",
       "</div>"
      ],
      "text/plain": [
       "        188\n",
       "1/22/20   0\n",
       "1/23/20   0\n",
       "1/24/20   0\n",
       "1/25/20   0\n",
       "1/26/20   0"
      ]
     },
     "execution_count": 27,
     "metadata": {},
     "output_type": "execute_result"
    }
   ],
   "source": [
    "Nigeria_daily_recovered = Nigeria_daily_recovered1.iloc[4: , :]\n",
    "Nigeria_daily_recovered.head()"
   ]
  },
  {
   "cell_type": "code",
   "execution_count": 28,
   "metadata": {},
   "outputs": [],
   "source": [
    "#RESET INDEX THEN RENAME TO DATE AND CASES\n",
    "Nigeria_daily_recovered.reset_index(inplace=True)\n",
    "Nigeria_daily_recovered.rename(columns = {'index' : 'Date' , 188:'Cases'} , inplace=True)"
   ]
  },
  {
   "cell_type": "code",
   "execution_count": 107,
   "metadata": {},
   "outputs": [
    {
     "data": {
      "text/html": [
       "<div>\n",
       "<style scoped>\n",
       "    .dataframe tbody tr th:only-of-type {\n",
       "        vertical-align: middle;\n",
       "    }\n",
       "\n",
       "    .dataframe tbody tr th {\n",
       "        vertical-align: top;\n",
       "    }\n",
       "\n",
       "    .dataframe thead th {\n",
       "        text-align: right;\n",
       "    }\n",
       "</style>\n",
       "<table border=\"1\" class=\"dataframe\">\n",
       "  <thead>\n",
       "    <tr style=\"text-align: right;\">\n",
       "      <th></th>\n",
       "      <th>Date</th>\n",
       "      <th>Cases</th>\n",
       "    </tr>\n",
       "  </thead>\n",
       "  <tbody>\n",
       "    <tr>\n",
       "      <th>0</th>\n",
       "      <td>1/22/20</td>\n",
       "      <td>0</td>\n",
       "    </tr>\n",
       "    <tr>\n",
       "      <th>1</th>\n",
       "      <td>1/23/20</td>\n",
       "      <td>0</td>\n",
       "    </tr>\n",
       "    <tr>\n",
       "      <th>2</th>\n",
       "      <td>1/24/20</td>\n",
       "      <td>0</td>\n",
       "    </tr>\n",
       "    <tr>\n",
       "      <th>3</th>\n",
       "      <td>1/25/20</td>\n",
       "      <td>0</td>\n",
       "    </tr>\n",
       "    <tr>\n",
       "      <th>4</th>\n",
       "      <td>1/26/20</td>\n",
       "      <td>0</td>\n",
       "    </tr>\n",
       "  </tbody>\n",
       "</table>\n",
       "</div>"
      ],
      "text/plain": [
       "      Date Cases\n",
       "0  1/22/20     0\n",
       "1  1/23/20     0\n",
       "2  1/24/20     0\n",
       "3  1/25/20     0\n",
       "4  1/26/20     0"
      ]
     },
     "execution_count": 107,
     "metadata": {},
     "output_type": "execute_result"
    }
   ],
   "source": [
    "#FIRST FIVE DATAPOINTS OF NIGERIA DAILY RECOVERED\n",
    "Nigeria_daily_recovered.head()"
   ]
  },
  {
   "cell_type": "markdown",
   "metadata": {},
   "source": [
    "TODO D - Get a Pandas DataFrame for Daily Death Cases in Nigeria. Columns are Date and Cases"
   ]
  },
  {
   "cell_type": "code",
   "execution_count": 30,
   "metadata": {},
   "outputs": [],
   "source": [
    "#NIGERIA DAILY DEATH CASES\n",
    "Nigeria_daily_death1 = JHGDDC.loc[JHGDDC['Country/Region']=='Nigeria'].T"
   ]
  },
  {
   "cell_type": "code",
   "execution_count": 31,
   "metadata": {},
   "outputs": [
    {
     "data": {
      "text/html": [
       "<div>\n",
       "<style scoped>\n",
       "    .dataframe tbody tr th:only-of-type {\n",
       "        vertical-align: middle;\n",
       "    }\n",
       "\n",
       "    .dataframe tbody tr th {\n",
       "        vertical-align: top;\n",
       "    }\n",
       "\n",
       "    .dataframe thead th {\n",
       "        text-align: right;\n",
       "    }\n",
       "</style>\n",
       "<table border=\"1\" class=\"dataframe\">\n",
       "  <thead>\n",
       "    <tr style=\"text-align: right;\">\n",
       "      <th></th>\n",
       "      <th>203</th>\n",
       "    </tr>\n",
       "  </thead>\n",
       "  <tbody>\n",
       "    <tr>\n",
       "      <th>Province/State</th>\n",
       "      <td>NaN</td>\n",
       "    </tr>\n",
       "    <tr>\n",
       "      <th>Country/Region</th>\n",
       "      <td>Nigeria</td>\n",
       "    </tr>\n",
       "    <tr>\n",
       "      <th>Lat</th>\n",
       "      <td>9.082</td>\n",
       "    </tr>\n",
       "    <tr>\n",
       "      <th>Long</th>\n",
       "      <td>8.6753</td>\n",
       "    </tr>\n",
       "    <tr>\n",
       "      <th>1/22/20</th>\n",
       "      <td>0</td>\n",
       "    </tr>\n",
       "  </tbody>\n",
       "</table>\n",
       "</div>"
      ],
      "text/plain": [
       "                    203\n",
       "Province/State      NaN\n",
       "Country/Region  Nigeria\n",
       "Lat               9.082\n",
       "Long             8.6753\n",
       "1/22/20               0"
      ]
     },
     "execution_count": 31,
     "metadata": {},
     "output_type": "execute_result"
    }
   ],
   "source": [
    "Nigeria_daily_death1.head()"
   ]
  },
  {
   "cell_type": "code",
   "execution_count": 32,
   "metadata": {},
   "outputs": [
    {
     "data": {
      "text/html": [
       "<div>\n",
       "<style scoped>\n",
       "    .dataframe tbody tr th:only-of-type {\n",
       "        vertical-align: middle;\n",
       "    }\n",
       "\n",
       "    .dataframe tbody tr th {\n",
       "        vertical-align: top;\n",
       "    }\n",
       "\n",
       "    .dataframe thead th {\n",
       "        text-align: right;\n",
       "    }\n",
       "</style>\n",
       "<table border=\"1\" class=\"dataframe\">\n",
       "  <thead>\n",
       "    <tr style=\"text-align: right;\">\n",
       "      <th></th>\n",
       "      <th>203</th>\n",
       "    </tr>\n",
       "  </thead>\n",
       "  <tbody>\n",
       "    <tr>\n",
       "      <th>1/22/20</th>\n",
       "      <td>0</td>\n",
       "    </tr>\n",
       "    <tr>\n",
       "      <th>1/23/20</th>\n",
       "      <td>0</td>\n",
       "    </tr>\n",
       "    <tr>\n",
       "      <th>1/24/20</th>\n",
       "      <td>0</td>\n",
       "    </tr>\n",
       "    <tr>\n",
       "      <th>1/25/20</th>\n",
       "      <td>0</td>\n",
       "    </tr>\n",
       "    <tr>\n",
       "      <th>1/26/20</th>\n",
       "      <td>0</td>\n",
       "    </tr>\n",
       "  </tbody>\n",
       "</table>\n",
       "</div>"
      ],
      "text/plain": [
       "        203\n",
       "1/22/20   0\n",
       "1/23/20   0\n",
       "1/24/20   0\n",
       "1/25/20   0\n",
       "1/26/20   0"
      ]
     },
     "execution_count": 32,
     "metadata": {},
     "output_type": "execute_result"
    }
   ],
   "source": [
    "Nigeria_daily_death = Nigeria_daily_death1.iloc[4: , :]\n",
    "Nigeria_daily_death.head()"
   ]
  },
  {
   "cell_type": "code",
   "execution_count": 33,
   "metadata": {},
   "outputs": [],
   "source": [
    "#RESET INDEX THEN RENAME TO DATE AND CASES\n",
    "Nigeria_daily_death.reset_index(inplace=True)\n",
    "Nigeria_daily_death.rename(columns = {'index' : 'Date' , 203:'Cases'} , inplace=True)"
   ]
  },
  {
   "cell_type": "code",
   "execution_count": 108,
   "metadata": {},
   "outputs": [
    {
     "data": {
      "text/html": [
       "<div>\n",
       "<style scoped>\n",
       "    .dataframe tbody tr th:only-of-type {\n",
       "        vertical-align: middle;\n",
       "    }\n",
       "\n",
       "    .dataframe tbody tr th {\n",
       "        vertical-align: top;\n",
       "    }\n",
       "\n",
       "    .dataframe thead th {\n",
       "        text-align: right;\n",
       "    }\n",
       "</style>\n",
       "<table border=\"1\" class=\"dataframe\">\n",
       "  <thead>\n",
       "    <tr style=\"text-align: right;\">\n",
       "      <th></th>\n",
       "      <th>Date</th>\n",
       "      <th>Cases</th>\n",
       "    </tr>\n",
       "  </thead>\n",
       "  <tbody>\n",
       "    <tr>\n",
       "      <th>817</th>\n",
       "      <td>4/18/22</td>\n",
       "      <td>3143</td>\n",
       "    </tr>\n",
       "    <tr>\n",
       "      <th>818</th>\n",
       "      <td>4/19/22</td>\n",
       "      <td>3143</td>\n",
       "    </tr>\n",
       "    <tr>\n",
       "      <th>819</th>\n",
       "      <td>4/20/22</td>\n",
       "      <td>3143</td>\n",
       "    </tr>\n",
       "    <tr>\n",
       "      <th>820</th>\n",
       "      <td>4/21/22</td>\n",
       "      <td>3143</td>\n",
       "    </tr>\n",
       "    <tr>\n",
       "      <th>821</th>\n",
       "      <td>4/22/22</td>\n",
       "      <td>3143</td>\n",
       "    </tr>\n",
       "  </tbody>\n",
       "</table>\n",
       "</div>"
      ],
      "text/plain": [
       "        Date Cases\n",
       "817  4/18/22  3143\n",
       "818  4/19/22  3143\n",
       "819  4/20/22  3143\n",
       "820  4/21/22  3143\n",
       "821  4/22/22  3143"
      ]
     },
     "execution_count": 108,
     "metadata": {},
     "output_type": "execute_result"
    }
   ],
   "source": [
    "#FIRST FIVE DATAPOINTS OF NIGERIA DAILY DEATH\n",
    "Nigeria_daily_death.tail()"
   ]
  },
  {
   "cell_type": "code",
   "execution_count": 109,
   "metadata": {},
   "outputs": [
    {
     "data": {
      "text/html": [
       "<div>\n",
       "<style scoped>\n",
       "    .dataframe tbody tr th:only-of-type {\n",
       "        vertical-align: middle;\n",
       "    }\n",
       "\n",
       "    .dataframe tbody tr th {\n",
       "        vertical-align: top;\n",
       "    }\n",
       "\n",
       "    .dataframe thead th {\n",
       "        text-align: right;\n",
       "    }\n",
       "</style>\n",
       "<table border=\"1\" class=\"dataframe\">\n",
       "  <thead>\n",
       "    <tr style=\"text-align: right;\">\n",
       "      <th></th>\n",
       "      <th>Date</th>\n",
       "      <th>Cases</th>\n",
       "    </tr>\n",
       "  </thead>\n",
       "  <tbody>\n",
       "    <tr>\n",
       "      <th>count</th>\n",
       "      <td>822</td>\n",
       "      <td>822</td>\n",
       "    </tr>\n",
       "    <tr>\n",
       "      <th>unique</th>\n",
       "      <td>822</td>\n",
       "      <td>470</td>\n",
       "    </tr>\n",
       "    <tr>\n",
       "      <th>top</th>\n",
       "      <td>1/22/20</td>\n",
       "      <td>0</td>\n",
       "    </tr>\n",
       "    <tr>\n",
       "      <th>freq</th>\n",
       "      <td>1</td>\n",
       "      <td>61</td>\n",
       "    </tr>\n",
       "  </tbody>\n",
       "</table>\n",
       "</div>"
      ],
      "text/plain": [
       "           Date  Cases\n",
       "count       822    822\n",
       "unique      822    470\n",
       "top     1/22/20      0\n",
       "freq          1     61"
      ]
     },
     "execution_count": 109,
     "metadata": {},
     "output_type": "execute_result"
    }
   ],
   "source": [
    "Nigeria_daily_death.describe()"
   ]
  },
  {
   "cell_type": "markdown",
   "metadata": {},
   "source": [
    "### Task 4 - Analysis\n",
    "Here you will perform some analyses on the datasets. You are welcome to communicate findings in charts and summary. \n",
    "<br>\n",
    "We have included a few TODOs to help with your analysis. However, do not let this limit your approach, feel free to include more, and be sure to support your findings with chart and summary "
   ]
  },
  {
   "cell_type": "markdown",
   "metadata": {},
   "source": [
    "TODO A - Generate a plot that shows the Top 10 states in terms of Confirmed Covid cases by Laboratory test"
   ]
  },
  {
   "cell_type": "code",
   "execution_count": 36,
   "metadata": {},
   "outputs": [
    {
     "data": {
      "text/html": [
       "<div>\n",
       "<style scoped>\n",
       "    .dataframe tbody tr th:only-of-type {\n",
       "        vertical-align: middle;\n",
       "    }\n",
       "\n",
       "    .dataframe tbody tr th {\n",
       "        vertical-align: top;\n",
       "    }\n",
       "\n",
       "    .dataframe thead th {\n",
       "        text-align: right;\n",
       "    }\n",
       "</style>\n",
       "<table border=\"1\" class=\"dataframe\">\n",
       "  <thead>\n",
       "    <tr style=\"text-align: right;\">\n",
       "      <th></th>\n",
       "      <th>States Affected</th>\n",
       "      <th>No. of Cases (Lab Confirmed)</th>\n",
       "      <th>No. of Cases (on admission)</th>\n",
       "      <th>No. Discharged</th>\n",
       "      <th>No. of Deaths</th>\n",
       "    </tr>\n",
       "  </thead>\n",
       "  <tbody>\n",
       "    <tr>\n",
       "      <th>0</th>\n",
       "      <td>Lagos</td>\n",
       "      <td>26708.0</td>\n",
       "      <td>2435.0</td>\n",
       "      <td>24037.0</td>\n",
       "      <td>236</td>\n",
       "    </tr>\n",
       "    <tr>\n",
       "      <th>1</th>\n",
       "      <td>FCT</td>\n",
       "      <td>9627.0</td>\n",
       "      <td>2840.0</td>\n",
       "      <td>6694.0</td>\n",
       "      <td>93</td>\n",
       "    </tr>\n",
       "    <tr>\n",
       "      <th>2</th>\n",
       "      <td>Kaduna</td>\n",
       "      <td>4504.0</td>\n",
       "      <td>579.0</td>\n",
       "      <td>3877.0</td>\n",
       "      <td>48</td>\n",
       "    </tr>\n",
       "    <tr>\n",
       "      <th>3</th>\n",
       "      <td>Plateau</td>\n",
       "      <td>4262.0</td>\n",
       "      <td>280.0</td>\n",
       "      <td>3948.0</td>\n",
       "      <td>34</td>\n",
       "    </tr>\n",
       "    <tr>\n",
       "      <th>4</th>\n",
       "      <td>Oyo</td>\n",
       "      <td>3788.0</td>\n",
       "      <td>368.0</td>\n",
       "      <td>3374.0</td>\n",
       "      <td>46</td>\n",
       "    </tr>\n",
       "    <tr>\n",
       "      <th>5</th>\n",
       "      <td>Rivers</td>\n",
       "      <td>3279.0</td>\n",
       "      <td>232.0</td>\n",
       "      <td>2987.0</td>\n",
       "      <td>60</td>\n",
       "    </tr>\n",
       "    <tr>\n",
       "      <th>6</th>\n",
       "      <td>Edo</td>\n",
       "      <td>2768.0</td>\n",
       "      <td>52.0</td>\n",
       "      <td>2603.0</td>\n",
       "      <td>113</td>\n",
       "    </tr>\n",
       "    <tr>\n",
       "      <th>7</th>\n",
       "      <td>Ogun</td>\n",
       "      <td>2382.0</td>\n",
       "      <td>174.0</td>\n",
       "      <td>2175.0</td>\n",
       "      <td>33</td>\n",
       "    </tr>\n",
       "    <tr>\n",
       "      <th>8</th>\n",
       "      <td>Kano</td>\n",
       "      <td>2032.0</td>\n",
       "      <td>198.0</td>\n",
       "      <td>1778.0</td>\n",
       "      <td>56</td>\n",
       "    </tr>\n",
       "    <tr>\n",
       "      <th>9</th>\n",
       "      <td>Delta</td>\n",
       "      <td>1843.0</td>\n",
       "      <td>57.0</td>\n",
       "      <td>1737.0</td>\n",
       "      <td>49</td>\n",
       "    </tr>\n",
       "  </tbody>\n",
       "</table>\n",
       "</div>"
      ],
      "text/plain": [
       "  States Affected  No. of Cases (Lab Confirmed)  No. of Cases (on admission)  \\\n",
       "0           Lagos                       26708.0                       2435.0   \n",
       "1             FCT                        9627.0                       2840.0   \n",
       "2          Kaduna                        4504.0                        579.0   \n",
       "3         Plateau                        4262.0                        280.0   \n",
       "4             Oyo                        3788.0                        368.0   \n",
       "5          Rivers                        3279.0                        232.0   \n",
       "6             Edo                        2768.0                         52.0   \n",
       "7            Ogun                        2382.0                        174.0   \n",
       "8            Kano                        2032.0                        198.0   \n",
       "9           Delta                        1843.0                         57.0   \n",
       "\n",
       "   No. Discharged  No. of Deaths  \n",
       "0         24037.0            236  \n",
       "1          6694.0             93  \n",
       "2          3877.0             48  \n",
       "3          3948.0             34  \n",
       "4          3374.0             46  \n",
       "5          2987.0             60  \n",
       "6          2603.0            113  \n",
       "7          2175.0             33  \n",
       "8          1778.0             56  \n",
       "9          1737.0             49  "
      ]
     },
     "execution_count": 36,
     "metadata": {},
     "output_type": "execute_result"
    }
   ],
   "source": [
    "covidNig.head(10)"
   ]
  },
  {
   "cell_type": "code",
   "execution_count": null,
   "metadata": {},
   "outputs": [],
   "source": [
    "The top ten states interms of confirmed cases are: \n",
    "Lagos , FCT , Kaduna , Plateau , Oyo , Rivers , Edo , Ogun , Kano and Delta"
   ]
  },
  {
   "cell_type": "code",
   "execution_count": 37,
   "metadata": {},
   "outputs": [
    {
     "data": {
      "image/png": "[encoded data removed]",
      "text/plain": [
       "<Figure size 576x576 with 1 Axes>"
      ]
     },
     "metadata": {},
     "output_type": "display_data"
    }
   ],
   "source": [
    "data =plt.subplots(figsize=(8, 8))\n",
    "sns.barplot(x ='States Affected' ,y ='No. of Cases (Lab Confirmed)' ,  \n",
    "            data = covidNig.sort_values('No. of Cases (Lab Confirmed)' , ascending = False).head(10)).set_title('The Top Ten States In Nigeria In Terms Of Confirmed Cases')\n",
    "plt.show()"
   ]
  },
  {
   "cell_type": "markdown",
   "metadata": {},
   "source": [
    "TODO B - Generate a plot that shows the Top 10 states in terms of Discharged Covid cases. Hint - Sort the values"
   ]
  },
  {
   "cell_type": "code",
   "execution_count": 38,
   "metadata": {},
   "outputs": [
    {
     "data": {
      "text/plain": [
       "Text(0.5, 1.0, 'Top 10 States In Terms Of Discharged Covid Cases')"
      ]
     },
     "execution_count": 38,
     "metadata": {},
     "output_type": "execute_result"
    },
    {
     "data": {
      "image/png": "[encoded data removed]",
      "text/plain": [
       "<Figure size 576x576 with 1 Axes>"
      ]
     },
     "metadata": {},
     "output_type": "display_data"
    }
   ],
   "source": [
    "data = plt.subplots(figsize=(8,8))\n",
    "sns.barplot(x ='States Affected' , y='No. Discharged' , \n",
    "            data = covidNig.sort_values('No. Discharged', ascending = False).head(10)).set_title('Top 10 States In Terms Of Discharged Covid Cases')"
   ]
  },
  {
   "cell_type": "markdown",
   "metadata": {},
   "source": [
    "TODO D - Plot the top 10 Death cases"
   ]
  },
  {
   "cell_type": "code",
   "execution_count": 39,
   "metadata": {},
   "outputs": [
    {
     "data": {
      "text/plain": [
       "Text(0.5, 1.0, 'Top 10 States In Terms Of Death Cases')"
      ]
     },
     "execution_count": 39,
     "metadata": {},
     "output_type": "execute_result"
    },
    {
     "data": {
      "image/png": "[encoded data removed]",
      "text/plain": [
       "<Figure size 576x576 with 1 Axes>"
      ]
     },
     "metadata": {},
     "output_type": "display_data"
    }
   ],
   "source": [
    "data = plt.subplots(figsize=(8,8))\n",
    "sns.barplot(x ='States Affected' , y='No. of Deaths' , \n",
    "            data = covidNig.sort_values('No. of Deaths', ascending = False).head(10)).set_title('Top 10 States In Terms Of Death Cases')"
   ]
  },
  {
   "cell_type": "markdown",
   "metadata": {},
   "source": [
    "TODO E - Generate a line plot for the total daily confirmed, recovered and death cases in Nigeria"
   ]
  },
  {
   "cell_type": "code",
   "execution_count": 119,
   "metadata": {},
   "outputs": [
    {
     "data": {
      "text/plain": [
       "Text(0.5, 1.0, 'Daily Confirmed Cases In Nigeria According to Dates')"
      ]
     },
     "execution_count": 119,
     "metadata": {},
     "output_type": "execute_result"
    },
    {
     "data": {
      "image/png": "[encoded data removed]",
      "text/plain": [
       "<Figure size 1080x720 with 1 Axes>"
      ]
     },
     "metadata": {},
     "output_type": "display_data"
    }
   ],
   "source": [
    "data = plt.subplots(figsize=(15,10))\n",
    "sns.lineplot(y='Cases' , x = 'Date' ,data = Nigeria_daily_confirmed).set_title('Daily Confirmed Cases In Nigeria According to Dates')"
   ]
  },
  {
   "cell_type": "code",
   "execution_count": 41,
   "metadata": {},
   "outputs": [
    {
     "data": {
      "text/plain": [
       "Text(0.5, 1.0, 'Cummulative Daily Recovered Cases Of Covid Cases In Nigeria')"
      ]
     },
     "execution_count": 41,
     "metadata": {},
     "output_type": "execute_result"
    },
    {
     "data": {
      "image/png": "[encoded data removed]",
      "text/plain": [
       "<Figure size 1080x720 with 1 Axes>"
      ]
     },
     "metadata": {},
     "output_type": "display_data"
    }
   ],
   "source": [
    "data = plt.subplots(figsize=(15,10))\n",
    "sns.lineplot(x= 'Date' , y = 'Cases' ,data = Nigeria_daily_recovered).set_title('Cummulative Daily Recovered Cases Of Covid Cases In Nigeria')"
   ]
  },
  {
   "cell_type": "code",
   "execution_count": 42,
   "metadata": {},
   "outputs": [
    {
     "data": {
      "text/plain": [
       "Text(0.5, 1.0, 'Cummulative Daily Death Cases Of Covid Cases In Nigeria')"
      ]
     },
     "execution_count": 42,
     "metadata": {},
     "output_type": "execute_result"
    },
    {
     "data": {
      "image/png": "[encoded data removed]",
      "text/plain": [
       "<Figure size 1080x720 with 1 Axes>"
      ]
     },
     "metadata": {},
     "output_type": "display_data"
    }
   ],
   "source": [
    "data = plt.subplots(figsize=(15,10))\n",
    "sns.lineplot(x= 'Date' , y = 'Cases' ,data = Nigeria_daily_death).set_title('Cummulative Daily Death Cases Of Covid Cases In Nigeria')"
   ]
  },
  {
   "cell_type": "markdown",
   "metadata": {},
   "source": [
    "TODO F - \n",
    "* Determine the daily infection rate, you can use the Pandas `diff` method to find the derivate of the total cases.\n",
    "* Generate a line plot for the above"
   ]
  },
  {
   "cell_type": "code",
   "execution_count": 43,
   "metadata": {},
   "outputs": [],
   "source": [
    "Nigeria_daily_confirmed['Daily_Infection'] =Nigeria_daily_confirmed[['Cases']].diff()"
   ]
  },
  {
   "cell_type": "code",
   "execution_count": 44,
   "metadata": {},
   "outputs": [
    {
     "data": {
      "text/html": [
       "<div>\n",
       "<style scoped>\n",
       "    .dataframe tbody tr th:only-of-type {\n",
       "        vertical-align: middle;\n",
       "    }\n",
       "\n",
       "    .dataframe tbody tr th {\n",
       "        vertical-align: top;\n",
       "    }\n",
       "\n",
       "    .dataframe thead th {\n",
       "        text-align: right;\n",
       "    }\n",
       "</style>\n",
       "<table border=\"1\" class=\"dataframe\">\n",
       "  <thead>\n",
       "    <tr style=\"text-align: right;\">\n",
       "      <th></th>\n",
       "      <th>Date</th>\n",
       "      <th>Cases</th>\n",
       "      <th>Daily_Infection</th>\n",
       "    </tr>\n",
       "  </thead>\n",
       "  <tbody>\n",
       "    <tr>\n",
       "      <th>0</th>\n",
       "      <td>1/22/20</td>\n",
       "      <td>0</td>\n",
       "      <td>NaN</td>\n",
       "    </tr>\n",
       "    <tr>\n",
       "      <th>1</th>\n",
       "      <td>1/23/20</td>\n",
       "      <td>0</td>\n",
       "      <td>0</td>\n",
       "    </tr>\n",
       "    <tr>\n",
       "      <th>2</th>\n",
       "      <td>1/24/20</td>\n",
       "      <td>0</td>\n",
       "      <td>0</td>\n",
       "    </tr>\n",
       "    <tr>\n",
       "      <th>3</th>\n",
       "      <td>1/25/20</td>\n",
       "      <td>0</td>\n",
       "      <td>0</td>\n",
       "    </tr>\n",
       "    <tr>\n",
       "      <th>4</th>\n",
       "      <td>1/26/20</td>\n",
       "      <td>0</td>\n",
       "      <td>0</td>\n",
       "    </tr>\n",
       "  </tbody>\n",
       "</table>\n",
       "</div>"
      ],
      "text/plain": [
       "      Date Cases Daily_Infection\n",
       "0  1/22/20     0             NaN\n",
       "1  1/23/20     0               0\n",
       "2  1/24/20     0               0\n",
       "3  1/25/20     0               0\n",
       "4  1/26/20     0               0"
      ]
     },
     "execution_count": 44,
     "metadata": {},
     "output_type": "execute_result"
    }
   ],
   "source": [
    "Nigeria_daily_confirmed.head()"
   ]
  },
  {
   "cell_type": "code",
   "execution_count": 45,
   "metadata": {},
   "outputs": [
    {
     "data": {
      "text/html": [
       "<div>\n",
       "<style scoped>\n",
       "    .dataframe tbody tr th:only-of-type {\n",
       "        vertical-align: middle;\n",
       "    }\n",
       "\n",
       "    .dataframe tbody tr th {\n",
       "        vertical-align: top;\n",
       "    }\n",
       "\n",
       "    .dataframe thead th {\n",
       "        text-align: right;\n",
       "    }\n",
       "</style>\n",
       "<table border=\"1\" class=\"dataframe\">\n",
       "  <thead>\n",
       "    <tr style=\"text-align: right;\">\n",
       "      <th></th>\n",
       "      <th>Date</th>\n",
       "      <th>Cases</th>\n",
       "      <th>Daily_Infection</th>\n",
       "    </tr>\n",
       "  </thead>\n",
       "  <tbody>\n",
       "    <tr>\n",
       "      <th>817</th>\n",
       "      <td>4/18/22</td>\n",
       "      <td>255648</td>\n",
       "      <td>0</td>\n",
       "    </tr>\n",
       "    <tr>\n",
       "      <th>818</th>\n",
       "      <td>4/19/22</td>\n",
       "      <td>255670</td>\n",
       "      <td>22</td>\n",
       "    </tr>\n",
       "    <tr>\n",
       "      <th>819</th>\n",
       "      <td>4/20/22</td>\n",
       "      <td>255670</td>\n",
       "      <td>0</td>\n",
       "    </tr>\n",
       "    <tr>\n",
       "      <th>820</th>\n",
       "      <td>4/21/22</td>\n",
       "      <td>255679</td>\n",
       "      <td>9</td>\n",
       "    </tr>\n",
       "    <tr>\n",
       "      <th>821</th>\n",
       "      <td>4/22/22</td>\n",
       "      <td>255685</td>\n",
       "      <td>6</td>\n",
       "    </tr>\n",
       "  </tbody>\n",
       "</table>\n",
       "</div>"
      ],
      "text/plain": [
       "        Date   Cases Daily_Infection\n",
       "817  4/18/22  255648               0\n",
       "818  4/19/22  255670              22\n",
       "819  4/20/22  255670               0\n",
       "820  4/21/22  255679               9\n",
       "821  4/22/22  255685               6"
      ]
     },
     "execution_count": 45,
     "metadata": {},
     "output_type": "execute_result"
    }
   ],
   "source": [
    "Nigeria_daily_confirmed.tail()"
   ]
  },
  {
   "cell_type": "code",
   "execution_count": 46,
   "metadata": {},
   "outputs": [
    {
     "data": {
      "text/plain": [
       "Text(0.5, 1.0, 'Daily Infection Rate Of Covid Cases In Nigeria')"
      ]
     },
     "execution_count": 46,
     "metadata": {},
     "output_type": "execute_result"
    },
    {
     "data": {
      "image/png": "[encoded data removed]",
      "text/plain": [
       "<Figure size 1080x720 with 1 Axes>"
      ]
     },
     "metadata": {},
     "output_type": "display_data"
    }
   ],
   "source": [
    "data = plt.subplots(figsize=(15,10))\n",
    "sns.lineplot(x ='Date' , y = 'Daily_Infection' ,data = Nigeria_daily_confirmed).set_title('Daily Infection Rate Of Covid Cases In Nigeria')"
   ]
  },
  {
   "cell_type": "markdown",
   "metadata": {},
   "source": [
    "TODO G - \n",
    "* Calculate maximum infection rate for a day (Number of new cases)\n",
    "* Find the date"
   ]
  },
  {
   "cell_type": "code",
   "execution_count": 47,
   "metadata": {},
   "outputs": [
    {
     "name": "stdout",
     "output_type": "stream",
     "text": [
      "         Date   Cases Daily_Infection\n",
      "700  12/22/21  231413            6158\n"
     ]
    }
   ],
   "source": [
    "print(Nigeria_daily_confirmed[(Nigeria_daily_confirmed.Daily_Infection)== Nigeria_daily_confirmed.Daily_Infection.max()])"
   ]
  },
  {
   "cell_type": "markdown",
   "metadata": {},
   "source": [
    "* Maximum infection rate for a day is 6158 cases , it happened on 22nd December , 2021"
   ]
  },
  {
   "cell_type": "markdown",
   "metadata": {},
   "source": [
    "TODO H - Determine the relationship between the external dataset and the NCDC COVID-19 dataset. \n",
    "Here you will generate a line plot of top 10 confirmed cases and the overall community vulnerability index on the same axis. From the graph, explain your observation.\n",
    "<br>\n",
    "Steps\n",
    "* Combine the two dataset together on a common column(states)\n",
    "* Create a new dataframe for plotting. This DataFrame will contain top 10 states in terms of confirmed cases i.e sort by confirmed cases. ** Hint: Check out Pandas [nlargest](https://pandas.pydata.org/pandas-docs/stable/reference/api/pandas.DataFrame.nlargest.html) function. This [tutorial](https://cmdlinetips.com/2019/03/how-to-select-top-n-rows-with-the-largest-values-in-a-columns-in-pandas/) can help out ** \n",
    "* Plot both variable on the same axis. Check out this [tutorial](http://kitchingroup.cheme.cmu.edu/blog/2013/09/13/Plotting-two-datasets-with-very-different-scales/)"
   ]
  },
  {
   "cell_type": "code",
   "execution_count": 48,
   "metadata": {},
   "outputs": [],
   "source": [
    "merged_covid = covidNig.merge(covid_external , left_on='States Affected' , right_on='states')"
   ]
  },
  {
   "cell_type": "code",
   "execution_count": 49,
   "metadata": {},
   "outputs": [
    {
     "data": {
      "text/html": [
       "<div>\n",
       "<style scoped>\n",
       "    .dataframe tbody tr th:only-of-type {\n",
       "        vertical-align: middle;\n",
       "    }\n",
       "\n",
       "    .dataframe tbody tr th {\n",
       "        vertical-align: top;\n",
       "    }\n",
       "\n",
       "    .dataframe thead th {\n",
       "        text-align: right;\n",
       "    }\n",
       "</style>\n",
       "<table border=\"1\" class=\"dataframe\">\n",
       "  <thead>\n",
       "    <tr style=\"text-align: right;\">\n",
       "      <th></th>\n",
       "      <th>States Affected</th>\n",
       "      <th>No. of Cases (Lab Confirmed)</th>\n",
       "      <th>No. of Cases (on admission)</th>\n",
       "      <th>No. Discharged</th>\n",
       "      <th>No. of Deaths</th>\n",
       "      <th>states</th>\n",
       "      <th>region</th>\n",
       "      <th>Population</th>\n",
       "      <th>Overall CCVI Index</th>\n",
       "      <th>Age</th>\n",
       "      <th>Epidemiological</th>\n",
       "      <th>Fragility</th>\n",
       "      <th>Health System</th>\n",
       "      <th>Population Density</th>\n",
       "      <th>Socio-Economic</th>\n",
       "      <th>Transport Availability</th>\n",
       "      <th>Acute IHR</th>\n",
       "    </tr>\n",
       "  </thead>\n",
       "  <tbody>\n",
       "    <tr>\n",
       "      <th>0</th>\n",
       "      <td>Lagos</td>\n",
       "      <td>26708.0</td>\n",
       "      <td>2435.0</td>\n",
       "      <td>24037.0</td>\n",
       "      <td>236</td>\n",
       "      <td>Lagos</td>\n",
       "      <td>South West</td>\n",
       "      <td>13992000</td>\n",
       "      <td>0.0</td>\n",
       "      <td>0.1</td>\n",
       "      <td>1.0</td>\n",
       "      <td>0.3</td>\n",
       "      <td>0.1</td>\n",
       "      <td>1.0</td>\n",
       "      <td>0.1</td>\n",
       "      <td>0.4</td>\n",
       "      <td>0.93</td>\n",
       "    </tr>\n",
       "    <tr>\n",
       "      <th>1</th>\n",
       "      <td>FCT</td>\n",
       "      <td>9627.0</td>\n",
       "      <td>2840.0</td>\n",
       "      <td>6694.0</td>\n",
       "      <td>93</td>\n",
       "      <td>FCT</td>\n",
       "      <td>North Central</td>\n",
       "      <td>4865000</td>\n",
       "      <td>0.3</td>\n",
       "      <td>0.0</td>\n",
       "      <td>0.9</td>\n",
       "      <td>0.4</td>\n",
       "      <td>0.6</td>\n",
       "      <td>0.9</td>\n",
       "      <td>0.6</td>\n",
       "      <td>0.2</td>\n",
       "      <td>0.79</td>\n",
       "    </tr>\n",
       "    <tr>\n",
       "      <th>2</th>\n",
       "      <td>Kaduna</td>\n",
       "      <td>4504.0</td>\n",
       "      <td>579.0</td>\n",
       "      <td>3877.0</td>\n",
       "      <td>48</td>\n",
       "      <td>Kaduna</td>\n",
       "      <td>North West</td>\n",
       "      <td>9227000</td>\n",
       "      <td>0.7</td>\n",
       "      <td>0.1</td>\n",
       "      <td>0.9</td>\n",
       "      <td>0.8</td>\n",
       "      <td>0.9</td>\n",
       "      <td>0.4</td>\n",
       "      <td>0.6</td>\n",
       "      <td>0.4</td>\n",
       "      <td>0.86</td>\n",
       "    </tr>\n",
       "    <tr>\n",
       "      <th>3</th>\n",
       "      <td>Plateau</td>\n",
       "      <td>4262.0</td>\n",
       "      <td>280.0</td>\n",
       "      <td>3948.0</td>\n",
       "      <td>34</td>\n",
       "      <td>Plateau</td>\n",
       "      <td>North Central</td>\n",
       "      <td>4766000</td>\n",
       "      <td>0.4</td>\n",
       "      <td>0.5</td>\n",
       "      <td>0.4</td>\n",
       "      <td>0.8</td>\n",
       "      <td>0.3</td>\n",
       "      <td>0.3</td>\n",
       "      <td>0.5</td>\n",
       "      <td>0.3</td>\n",
       "      <td>0.93</td>\n",
       "    </tr>\n",
       "    <tr>\n",
       "      <th>4</th>\n",
       "      <td>Oyo</td>\n",
       "      <td>3788.0</td>\n",
       "      <td>368.0</td>\n",
       "      <td>3374.0</td>\n",
       "      <td>46</td>\n",
       "      <td>Oyo</td>\n",
       "      <td>South West</td>\n",
       "      <td>8737000</td>\n",
       "      <td>0.2</td>\n",
       "      <td>0.7</td>\n",
       "      <td>0.8</td>\n",
       "      <td>0.2</td>\n",
       "      <td>0.8</td>\n",
       "      <td>0.6</td>\n",
       "      <td>0.2</td>\n",
       "      <td>0.3</td>\n",
       "      <td>1.06</td>\n",
       "    </tr>\n",
       "  </tbody>\n",
       "</table>\n",
       "</div>"
      ],
      "text/plain": [
       "  States Affected  No. of Cases (Lab Confirmed)  No. of Cases (on admission)  \\\n",
       "0           Lagos                       26708.0                       2435.0   \n",
       "1             FCT                        9627.0                       2840.0   \n",
       "2          Kaduna                        4504.0                        579.0   \n",
       "3         Plateau                        4262.0                        280.0   \n",
       "4             Oyo                        3788.0                        368.0   \n",
       "\n",
       "   No. Discharged  No. of Deaths   states         region  Population  \\\n",
       "0         24037.0            236    Lagos     South West    13992000   \n",
       "1          6694.0             93      FCT  North Central     4865000   \n",
       "2          3877.0             48   Kaduna     North West     9227000   \n",
       "3          3948.0             34  Plateau  North Central     4766000   \n",
       "4          3374.0             46      Oyo     South West     8737000   \n",
       "\n",
       "   Overall CCVI Index  Age  Epidemiological  Fragility  Health System  \\\n",
       "0                 0.0  0.1              1.0        0.3            0.1   \n",
       "1                 0.3  0.0              0.9        0.4            0.6   \n",
       "2                 0.7  0.1              0.9        0.8            0.9   \n",
       "3                 0.4  0.5              0.4        0.8            0.3   \n",
       "4                 0.2  0.7              0.8        0.2            0.8   \n",
       "\n",
       "   Population Density  Socio-Economic   Transport Availability  Acute IHR  \n",
       "0                 1.0             0.1                      0.4       0.93  \n",
       "1                 0.9             0.6                      0.2       0.79  \n",
       "2                 0.4             0.6                      0.4       0.86  \n",
       "3                 0.3             0.5                      0.3       0.93  \n",
       "4                 0.6             0.2                      0.3       1.06  "
      ]
     },
     "execution_count": 49,
     "metadata": {},
     "output_type": "execute_result"
    }
   ],
   "source": [
    "merged_covid.head()"
   ]
  },
  {
   "cell_type": "code",
   "execution_count": 50,
   "metadata": {},
   "outputs": [],
   "source": [
    "largest_ten = merged_covid.nlargest(10 , 'No. of Cases (Lab Confirmed)')"
   ]
  },
  {
   "cell_type": "code",
   "execution_count": 129,
   "metadata": {},
   "outputs": [
    {
     "data": {
      "text/html": [
       "<div>\n",
       "<style scoped>\n",
       "    .dataframe tbody tr th:only-of-type {\n",
       "        vertical-align: middle;\n",
       "    }\n",
       "\n",
       "    .dataframe tbody tr th {\n",
       "        vertical-align: top;\n",
       "    }\n",
       "\n",
       "    .dataframe thead th {\n",
       "        text-align: right;\n",
       "    }\n",
       "</style>\n",
       "<table border=\"1\" class=\"dataframe\">\n",
       "  <thead>\n",
       "    <tr style=\"text-align: right;\">\n",
       "      <th></th>\n",
       "      <th>States Affected</th>\n",
       "      <th>No. of Cases (Lab Confirmed)</th>\n",
       "      <th>No. of Cases (on admission)</th>\n",
       "      <th>No. Discharged</th>\n",
       "      <th>No. of Deaths</th>\n",
       "      <th>states</th>\n",
       "      <th>region</th>\n",
       "      <th>Population</th>\n",
       "      <th>Overall CCVI Index</th>\n",
       "      <th>Age</th>\n",
       "      <th>Epidemiological</th>\n",
       "      <th>Fragility</th>\n",
       "      <th>Health System</th>\n",
       "      <th>Population Density</th>\n",
       "      <th>Socio-Economic</th>\n",
       "      <th>Transport Availability</th>\n",
       "      <th>Acute IHR</th>\n",
       "      <th>% case confirmed</th>\n",
       "    </tr>\n",
       "  </thead>\n",
       "  <tbody>\n",
       "    <tr>\n",
       "      <th>0</th>\n",
       "      <td>Lagos</td>\n",
       "      <td>26708.0</td>\n",
       "      <td>2435.0</td>\n",
       "      <td>24037.0</td>\n",
       "      <td>236</td>\n",
       "      <td>Lagos</td>\n",
       "      <td>South West</td>\n",
       "      <td>13992000</td>\n",
       "      <td>0.0</td>\n",
       "      <td>0.1</td>\n",
       "      <td>1.0</td>\n",
       "      <td>0.3</td>\n",
       "      <td>0.1</td>\n",
       "      <td>1.0</td>\n",
       "      <td>0.1</td>\n",
       "      <td>0.4</td>\n",
       "      <td>0.93</td>\n",
       "      <td>43.645515</td>\n",
       "    </tr>\n",
       "    <tr>\n",
       "      <th>1</th>\n",
       "      <td>FCT</td>\n",
       "      <td>9627.0</td>\n",
       "      <td>2840.0</td>\n",
       "      <td>6694.0</td>\n",
       "      <td>93</td>\n",
       "      <td>FCT</td>\n",
       "      <td>North Central</td>\n",
       "      <td>4865000</td>\n",
       "      <td>0.3</td>\n",
       "      <td>0.0</td>\n",
       "      <td>0.9</td>\n",
       "      <td>0.4</td>\n",
       "      <td>0.6</td>\n",
       "      <td>0.9</td>\n",
       "      <td>0.6</td>\n",
       "      <td>0.2</td>\n",
       "      <td>0.79</td>\n",
       "      <td>15.732192</td>\n",
       "    </tr>\n",
       "    <tr>\n",
       "      <th>2</th>\n",
       "      <td>Kaduna</td>\n",
       "      <td>4504.0</td>\n",
       "      <td>579.0</td>\n",
       "      <td>3877.0</td>\n",
       "      <td>48</td>\n",
       "      <td>Kaduna</td>\n",
       "      <td>North West</td>\n",
       "      <td>9227000</td>\n",
       "      <td>0.7</td>\n",
       "      <td>0.1</td>\n",
       "      <td>0.9</td>\n",
       "      <td>0.8</td>\n",
       "      <td>0.9</td>\n",
       "      <td>0.4</td>\n",
       "      <td>0.6</td>\n",
       "      <td>0.4</td>\n",
       "      <td>0.86</td>\n",
       "      <td>7.360319</td>\n",
       "    </tr>\n",
       "    <tr>\n",
       "      <th>3</th>\n",
       "      <td>Plateau</td>\n",
       "      <td>4262.0</td>\n",
       "      <td>280.0</td>\n",
       "      <td>3948.0</td>\n",
       "      <td>34</td>\n",
       "      <td>Plateau</td>\n",
       "      <td>North Central</td>\n",
       "      <td>4766000</td>\n",
       "      <td>0.4</td>\n",
       "      <td>0.5</td>\n",
       "      <td>0.4</td>\n",
       "      <td>0.8</td>\n",
       "      <td>0.3</td>\n",
       "      <td>0.3</td>\n",
       "      <td>0.5</td>\n",
       "      <td>0.3</td>\n",
       "      <td>0.93</td>\n",
       "      <td>6.964849</td>\n",
       "    </tr>\n",
       "    <tr>\n",
       "      <th>4</th>\n",
       "      <td>Oyo</td>\n",
       "      <td>3788.0</td>\n",
       "      <td>368.0</td>\n",
       "      <td>3374.0</td>\n",
       "      <td>46</td>\n",
       "      <td>Oyo</td>\n",
       "      <td>South West</td>\n",
       "      <td>8737000</td>\n",
       "      <td>0.2</td>\n",
       "      <td>0.7</td>\n",
       "      <td>0.8</td>\n",
       "      <td>0.2</td>\n",
       "      <td>0.8</td>\n",
       "      <td>0.6</td>\n",
       "      <td>0.2</td>\n",
       "      <td>0.3</td>\n",
       "      <td>1.06</td>\n",
       "      <td>6.190251</td>\n",
       "    </tr>\n",
       "    <tr>\n",
       "      <th>5</th>\n",
       "      <td>Rivers</td>\n",
       "      <td>3279.0</td>\n",
       "      <td>232.0</td>\n",
       "      <td>2987.0</td>\n",
       "      <td>60</td>\n",
       "      <td>Rivers</td>\n",
       "      <td>South South</td>\n",
       "      <td>7763000</td>\n",
       "      <td>0.4</td>\n",
       "      <td>0.5</td>\n",
       "      <td>0.9</td>\n",
       "      <td>0.6</td>\n",
       "      <td>0.6</td>\n",
       "      <td>0.9</td>\n",
       "      <td>0.1</td>\n",
       "      <td>0.1</td>\n",
       "      <td>1.00</td>\n",
       "      <td>5.358456</td>\n",
       "    </tr>\n",
       "    <tr>\n",
       "      <th>6</th>\n",
       "      <td>Edo</td>\n",
       "      <td>2768.0</td>\n",
       "      <td>52.0</td>\n",
       "      <td>2603.0</td>\n",
       "      <td>113</td>\n",
       "      <td>Edo</td>\n",
       "      <td>South South</td>\n",
       "      <td>4705000</td>\n",
       "      <td>0.1</td>\n",
       "      <td>0.9</td>\n",
       "      <td>0.8</td>\n",
       "      <td>0.1</td>\n",
       "      <td>0.1</td>\n",
       "      <td>0.5</td>\n",
       "      <td>0.4</td>\n",
       "      <td>0.3</td>\n",
       "      <td>1.09</td>\n",
       "      <td>4.523393</td>\n",
       "    </tr>\n",
       "    <tr>\n",
       "      <th>7</th>\n",
       "      <td>Ogun</td>\n",
       "      <td>2382.0</td>\n",
       "      <td>174.0</td>\n",
       "      <td>2175.0</td>\n",
       "      <td>33</td>\n",
       "      <td>Ogun</td>\n",
       "      <td>South West</td>\n",
       "      <td>5878000</td>\n",
       "      <td>0.3</td>\n",
       "      <td>0.6</td>\n",
       "      <td>0.7</td>\n",
       "      <td>0.5</td>\n",
       "      <td>0.6</td>\n",
       "      <td>0.6</td>\n",
       "      <td>0.0</td>\n",
       "      <td>0.2</td>\n",
       "      <td>1.07</td>\n",
       "      <td>3.892602</td>\n",
       "    </tr>\n",
       "    <tr>\n",
       "      <th>8</th>\n",
       "      <td>Kano</td>\n",
       "      <td>2032.0</td>\n",
       "      <td>198.0</td>\n",
       "      <td>1778.0</td>\n",
       "      <td>56</td>\n",
       "      <td>Kano</td>\n",
       "      <td>North West</td>\n",
       "      <td>14726000</td>\n",
       "      <td>0.6</td>\n",
       "      <td>0.2</td>\n",
       "      <td>0.1</td>\n",
       "      <td>0.3</td>\n",
       "      <td>0.4</td>\n",
       "      <td>0.8</td>\n",
       "      <td>0.8</td>\n",
       "      <td>0.5</td>\n",
       "      <td>0.87</td>\n",
       "      <td>3.320641</td>\n",
       "    </tr>\n",
       "    <tr>\n",
       "      <th>9</th>\n",
       "      <td>Delta</td>\n",
       "      <td>1843.0</td>\n",
       "      <td>57.0</td>\n",
       "      <td>1737.0</td>\n",
       "      <td>49</td>\n",
       "      <td>Delta</td>\n",
       "      <td>South South</td>\n",
       "      <td>6303000</td>\n",
       "      <td>0.4</td>\n",
       "      <td>0.6</td>\n",
       "      <td>0.7</td>\n",
       "      <td>0.2</td>\n",
       "      <td>1.0</td>\n",
       "      <td>0.6</td>\n",
       "      <td>0.5</td>\n",
       "      <td>0.4</td>\n",
       "      <td>1.08</td>\n",
       "      <td>3.011782</td>\n",
       "    </tr>\n",
       "  </tbody>\n",
       "</table>\n",
       "</div>"
      ],
      "text/plain": [
       "  States Affected  No. of Cases (Lab Confirmed)  No. of Cases (on admission)  \\\n",
       "0           Lagos                       26708.0                       2435.0   \n",
       "1             FCT                        9627.0                       2840.0   \n",
       "2          Kaduna                        4504.0                        579.0   \n",
       "3         Plateau                        4262.0                        280.0   \n",
       "4             Oyo                        3788.0                        368.0   \n",
       "5          Rivers                        3279.0                        232.0   \n",
       "6             Edo                        2768.0                         52.0   \n",
       "7            Ogun                        2382.0                        174.0   \n",
       "8            Kano                        2032.0                        198.0   \n",
       "9           Delta                        1843.0                         57.0   \n",
       "\n",
       "   No. Discharged  No. of Deaths   states         region  Population  \\\n",
       "0         24037.0            236    Lagos     South West    13992000   \n",
       "1          6694.0             93      FCT  North Central     4865000   \n",
       "2          3877.0             48   Kaduna     North West     9227000   \n",
       "3          3948.0             34  Plateau  North Central     4766000   \n",
       "4          3374.0             46      Oyo     South West     8737000   \n",
       "5          2987.0             60   Rivers    South South     7763000   \n",
       "6          2603.0            113      Edo    South South     4705000   \n",
       "7          2175.0             33     Ogun     South West     5878000   \n",
       "8          1778.0             56     Kano     North West    14726000   \n",
       "9          1737.0             49    Delta    South South     6303000   \n",
       "\n",
       "   Overall CCVI Index  Age  Epidemiological  Fragility  Health System  \\\n",
       "0                 0.0  0.1              1.0        0.3            0.1   \n",
       "1                 0.3  0.0              0.9        0.4            0.6   \n",
       "2                 0.7  0.1              0.9        0.8            0.9   \n",
       "3                 0.4  0.5              0.4        0.8            0.3   \n",
       "4                 0.2  0.7              0.8        0.2            0.8   \n",
       "5                 0.4  0.5              0.9        0.6            0.6   \n",
       "6                 0.1  0.9              0.8        0.1            0.1   \n",
       "7                 0.3  0.6              0.7        0.5            0.6   \n",
       "8                 0.6  0.2              0.1        0.3            0.4   \n",
       "9                 0.4  0.6              0.7        0.2            1.0   \n",
       "\n",
       "   Population Density  Socio-Economic   Transport Availability  Acute IHR  \\\n",
       "0                 1.0             0.1                      0.4       0.93   \n",
       "1                 0.9             0.6                      0.2       0.79   \n",
       "2                 0.4             0.6                      0.4       0.86   \n",
       "3                 0.3             0.5                      0.3       0.93   \n",
       "4                 0.6             0.2                      0.3       1.06   \n",
       "5                 0.9             0.1                      0.1       1.00   \n",
       "6                 0.5             0.4                      0.3       1.09   \n",
       "7                 0.6             0.0                      0.2       1.07   \n",
       "8                 0.8             0.8                      0.5       0.87   \n",
       "9                 0.6             0.5                      0.4       1.08   \n",
       "\n",
       "   % case confirmed  \n",
       "0         43.645515  \n",
       "1         15.732192  \n",
       "2          7.360319  \n",
       "3          6.964849  \n",
       "4          6.190251  \n",
       "5          5.358456  \n",
       "6          4.523393  \n",
       "7          3.892602  \n",
       "8          3.320641  \n",
       "9          3.011782  "
      ]
     },
     "execution_count": 129,
     "metadata": {},
     "output_type": "execute_result"
    }
   ],
   "source": [
    "largest_ten"
   ]
  },
  {
   "cell_type": "code",
   "execution_count": null,
   "metadata": {},
   "outputs": [],
   "source": []
  },
  {
   "cell_type": "code",
   "execution_count": 51,
   "metadata": {},
   "outputs": [
    {
     "data": {
      "image/png": "[encoded data removed]",
      "text/plain": [
       "<Figure size 576x576 with 2 Axes>"
      ]
     },
     "metadata": {},
     "output_type": "display_data"
    }
   ],
   "source": [
    "fig = plt.figure(figsize=(8,8))\n",
    "ax1 = fig.add_subplot()\n",
    "ax1.plot(largest_ten.loc[: , 'States Affected'] , largest_ten.loc[: , 'No. of Cases (Lab Confirmed)'])\n",
    "ax1.set_ylabel('No. of Cases (Lab Confirmed)')\n",
    "\n",
    "ax2 = ax1.twinx()\n",
    "ax2.plot(largest_ten.loc[: , 'States Affected'], largest_ten.loc[: , 'Overall CCVI Index'], 'r-')\n",
    "ax2.set_ylabel('Overall CCVI Index', color='r')\n",
    "for tl in ax2.get_yticklabels():\n",
    "    tl.set_color('r')\n",
    "\n",
    "plt.savefig('Confirmed_CCVI.png')"
   ]
  },
  {
   "cell_type": "markdown",
   "metadata": {},
   "source": [
    "TODO I - Determine the relationship between the external dataset and the NCDC COVID-19 dataset. \n",
    "* Here you will generate a regression plot between two variables to visualize the linear relationships - Confirmed Cases and Population Density.\n",
    "Hint: Check out Seaborn [Regression Plot](https://seaborn.pydata.org/generated/seaborn.regplot.html).\n",
    "* Provide a summary of your observation"
   ]
  },
  {
   "cell_type": "code",
   "execution_count": 114,
   "metadata": {},
   "outputs": [
    {
     "data": {
      "text/plain": [
       "<AxesSubplot:xlabel='Population Density', ylabel='No. of Cases (Lab Confirmed)'>"
      ]
     },
     "execution_count": 114,
     "metadata": {},
     "output_type": "execute_result"
    },
    {
     "data": {
      "image/png": "[encoded data removed]",
      "text/plain": [
       "<Figure size 720x720 with 1 Axes>"
      ]
     },
     "metadata": {},
     "output_type": "display_data"
    }
   ],
   "source": [
    "data = plt.subplots(figsize=(10,10))\n",
    "sns.regplot(y ='No. of Cases (Lab Confirmed)' , x= 'Population Density',  data = merged_covid , fit_reg= True)"
   ]
  },
  {
   "cell_type": "code",
   "execution_count": null,
   "metadata": {},
   "outputs": [],
   "source": [
    "#SUMMARY\n",
    "The Positive slope above shows that there exist a positive relationship between \n",
    "Number of cases confirmed and the population density. This means that the it the higher the population ,the higher the \n",
    "number of cases."
   ]
  },
  {
   "cell_type": "code",
   "execution_count": 54,
   "metadata": {},
   "outputs": [
    {
     "data": {
      "text/html": [
       "<div>\n",
       "<style scoped>\n",
       "    .dataframe tbody tr th:only-of-type {\n",
       "        vertical-align: middle;\n",
       "    }\n",
       "\n",
       "    .dataframe tbody tr th {\n",
       "        vertical-align: top;\n",
       "    }\n",
       "\n",
       "    .dataframe thead th {\n",
       "        text-align: right;\n",
       "    }\n",
       "</style>\n",
       "<table border=\"1\" class=\"dataframe\">\n",
       "  <thead>\n",
       "    <tr style=\"text-align: right;\">\n",
       "      <th></th>\n",
       "      <th>States Affected</th>\n",
       "      <th>No. of Cases (Lab Confirmed)</th>\n",
       "      <th>No. of Cases (on admission)</th>\n",
       "      <th>No. Discharged</th>\n",
       "      <th>No. of Deaths</th>\n",
       "      <th>states</th>\n",
       "      <th>region</th>\n",
       "      <th>Population</th>\n",
       "      <th>Overall CCVI Index</th>\n",
       "      <th>Age</th>\n",
       "      <th>Epidemiological</th>\n",
       "      <th>Fragility</th>\n",
       "      <th>Health System</th>\n",
       "      <th>Population Density</th>\n",
       "      <th>Socio-Economic</th>\n",
       "      <th>Transport Availability</th>\n",
       "      <th>Acute IHR</th>\n",
       "    </tr>\n",
       "  </thead>\n",
       "  <tbody>\n",
       "    <tr>\n",
       "      <th>0</th>\n",
       "      <td>Lagos</td>\n",
       "      <td>26708.0</td>\n",
       "      <td>2435.0</td>\n",
       "      <td>24037.0</td>\n",
       "      <td>236</td>\n",
       "      <td>Lagos</td>\n",
       "      <td>South West</td>\n",
       "      <td>13992000</td>\n",
       "      <td>0.0</td>\n",
       "      <td>0.1</td>\n",
       "      <td>1.0</td>\n",
       "      <td>0.3</td>\n",
       "      <td>0.1</td>\n",
       "      <td>1.0</td>\n",
       "      <td>0.1</td>\n",
       "      <td>0.4</td>\n",
       "      <td>0.93</td>\n",
       "    </tr>\n",
       "    <tr>\n",
       "      <th>1</th>\n",
       "      <td>FCT</td>\n",
       "      <td>9627.0</td>\n",
       "      <td>2840.0</td>\n",
       "      <td>6694.0</td>\n",
       "      <td>93</td>\n",
       "      <td>FCT</td>\n",
       "      <td>North Central</td>\n",
       "      <td>4865000</td>\n",
       "      <td>0.3</td>\n",
       "      <td>0.0</td>\n",
       "      <td>0.9</td>\n",
       "      <td>0.4</td>\n",
       "      <td>0.6</td>\n",
       "      <td>0.9</td>\n",
       "      <td>0.6</td>\n",
       "      <td>0.2</td>\n",
       "      <td>0.79</td>\n",
       "    </tr>\n",
       "    <tr>\n",
       "      <th>2</th>\n",
       "      <td>Kaduna</td>\n",
       "      <td>4504.0</td>\n",
       "      <td>579.0</td>\n",
       "      <td>3877.0</td>\n",
       "      <td>48</td>\n",
       "      <td>Kaduna</td>\n",
       "      <td>North West</td>\n",
       "      <td>9227000</td>\n",
       "      <td>0.7</td>\n",
       "      <td>0.1</td>\n",
       "      <td>0.9</td>\n",
       "      <td>0.8</td>\n",
       "      <td>0.9</td>\n",
       "      <td>0.4</td>\n",
       "      <td>0.6</td>\n",
       "      <td>0.4</td>\n",
       "      <td>0.86</td>\n",
       "    </tr>\n",
       "    <tr>\n",
       "      <th>3</th>\n",
       "      <td>Plateau</td>\n",
       "      <td>4262.0</td>\n",
       "      <td>280.0</td>\n",
       "      <td>3948.0</td>\n",
       "      <td>34</td>\n",
       "      <td>Plateau</td>\n",
       "      <td>North Central</td>\n",
       "      <td>4766000</td>\n",
       "      <td>0.4</td>\n",
       "      <td>0.5</td>\n",
       "      <td>0.4</td>\n",
       "      <td>0.8</td>\n",
       "      <td>0.3</td>\n",
       "      <td>0.3</td>\n",
       "      <td>0.5</td>\n",
       "      <td>0.3</td>\n",
       "      <td>0.93</td>\n",
       "    </tr>\n",
       "    <tr>\n",
       "      <th>4</th>\n",
       "      <td>Oyo</td>\n",
       "      <td>3788.0</td>\n",
       "      <td>368.0</td>\n",
       "      <td>3374.0</td>\n",
       "      <td>46</td>\n",
       "      <td>Oyo</td>\n",
       "      <td>South West</td>\n",
       "      <td>8737000</td>\n",
       "      <td>0.2</td>\n",
       "      <td>0.7</td>\n",
       "      <td>0.8</td>\n",
       "      <td>0.2</td>\n",
       "      <td>0.8</td>\n",
       "      <td>0.6</td>\n",
       "      <td>0.2</td>\n",
       "      <td>0.3</td>\n",
       "      <td>1.06</td>\n",
       "    </tr>\n",
       "  </tbody>\n",
       "</table>\n",
       "</div>"
      ],
      "text/plain": [
       "  States Affected  No. of Cases (Lab Confirmed)  No. of Cases (on admission)  \\\n",
       "0           Lagos                       26708.0                       2435.0   \n",
       "1             FCT                        9627.0                       2840.0   \n",
       "2          Kaduna                        4504.0                        579.0   \n",
       "3         Plateau                        4262.0                        280.0   \n",
       "4             Oyo                        3788.0                        368.0   \n",
       "\n",
       "   No. Discharged  No. of Deaths   states         region  Population  \\\n",
       "0         24037.0            236    Lagos     South West    13992000   \n",
       "1          6694.0             93      FCT  North Central     4865000   \n",
       "2          3877.0             48   Kaduna     North West     9227000   \n",
       "3          3948.0             34  Plateau  North Central     4766000   \n",
       "4          3374.0             46      Oyo     South West     8737000   \n",
       "\n",
       "   Overall CCVI Index  Age  Epidemiological  Fragility  Health System  \\\n",
       "0                 0.0  0.1              1.0        0.3            0.1   \n",
       "1                 0.3  0.0              0.9        0.4            0.6   \n",
       "2                 0.7  0.1              0.9        0.8            0.9   \n",
       "3                 0.4  0.5              0.4        0.8            0.3   \n",
       "4                 0.2  0.7              0.8        0.2            0.8   \n",
       "\n",
       "   Population Density  Socio-Economic   Transport Availability  Acute IHR  \n",
       "0                 1.0             0.1                      0.4       0.93  \n",
       "1                 0.9             0.6                      0.2       0.79  \n",
       "2                 0.4             0.6                      0.4       0.86  \n",
       "3                 0.3             0.5                      0.3       0.93  \n",
       "4                 0.6             0.2                      0.3       1.06  "
      ]
     },
     "execution_count": 54,
     "metadata": {},
     "output_type": "execute_result"
    }
   ],
   "source": [
    "merged_covid.head()"
   ]
  },
  {
   "cell_type": "markdown",
   "metadata": {},
   "source": [
    "TODO J - \n",
    "* Provide more analyses by extending TODO G & H. Meaning, determine relationships between more features.\n",
    "* Provide a detailed summary of your findings. \n",
    "* Note that you can have as many as possible."
   ]
  },
  {
   "cell_type": "code",
   "execution_count": 55,
   "metadata": {},
   "outputs": [
    {
     "data": {
      "text/plain": [
       "<AxesSubplot:xlabel='No. of Deaths', ylabel='No. of Cases (Lab Confirmed)'>"
      ]
     },
     "execution_count": 55,
     "metadata": {},
     "output_type": "execute_result"
    },
    {
     "data": {
      "image/png": "[encoded data removed]",
      "text/plain": [
       "<Figure size 720x720 with 1 Axes>"
      ]
     },
     "metadata": {},
     "output_type": "display_data"
    }
   ],
   "source": [
    "data = plt.subplots(figsize=(10,10))\n",
    "sns.regplot(y ='No. of Cases (Lab Confirmed)' , x= 'No. of Deaths',  data = merged_covid , fit_reg= True)"
   ]
  },
  {
   "cell_type": "code",
   "execution_count": null,
   "metadata": {},
   "outputs": [],
   "source": [
    "#Summary\n",
    "The slope above shows a high degree of relationship between the Number of cases and the number of deaths.\n",
    "This implies that the higher the number of cases , the higher will be the number of deaths."
   ]
  },
  {
   "cell_type": "code",
   "execution_count": 56,
   "metadata": {},
   "outputs": [
    {
     "data": {
      "text/plain": [
       "<AxesSubplot:xlabel='Health System', ylabel='No. of Deaths'>"
      ]
     },
     "execution_count": 56,
     "metadata": {},
     "output_type": "execute_result"
    },
    {
     "data": {
      "image/png": "[encoded data removed]",
      "text/plain": [
       "<Figure size 720x720 with 1 Axes>"
      ]
     },
     "metadata": {},
     "output_type": "display_data"
    }
   ],
   "source": [
    "data = plt.subplots(figsize=(10,10))\n",
    "sns.regplot(y ='No. of Deaths' , x= 'Health System',  data = merged_covid , fit_reg= True)"
   ]
  },
  {
   "cell_type": "code",
   "execution_count": null,
   "metadata": {},
   "outputs": [],
   "source": [
    "#Summary\n",
    "The picture above shows an inverse relationship between the number of deaths and the status of health system.\n",
    "This shows that the number of deaths reduces when the health system is better."
   ]
  },
  {
   "cell_type": "markdown",
   "metadata": {},
   "source": [
    "### TODO L - \n",
    "Determine the effect of the Pandemic on the economy. To do this, you will compare the Real GDP value Pre-COVID-19 with Real GDP in 2020 (COVID-19 Period, especially Q2 2020)\n",
    "<br>\n",
    "Steps\n",
    "* From the Real GDP Data, generate a `barplot` using the GDP values for each year & quarters. For example: On x-axis you will have year 2017 and the bars will be values of each quarters(Q1-Q4). You expected to have subplots of each quarters on one graph.\n",
    "<br>\n",
    "Hint: Use [Pandas.melt](https://pandas.pydata.org/docs/reference/api/pandas.melt.html) to create your plot DataFrame \n",
    "* Set your quarter legend to lower left.\n",
    "* Using `axhline`, draw a horizontal line through the graph at the value of Q2 2020.\n",
    "* Write out your observation"
   ]
  },
  {
   "cell_type": "code",
   "execution_count": 63,
   "metadata": {},
   "outputs": [],
   "source": [
    "RealGDP_melt = pd.melt(RealGDP, id_vars =['Year'])"
   ]
  },
  {
   "cell_type": "code",
   "execution_count": 117,
   "metadata": {},
   "outputs": [
    {
     "data": {
      "text/html": [
       "<div>\n",
       "<style scoped>\n",
       "    .dataframe tbody tr th:only-of-type {\n",
       "        vertical-align: middle;\n",
       "    }\n",
       "\n",
       "    .dataframe tbody tr th {\n",
       "        vertical-align: top;\n",
       "    }\n",
       "\n",
       "    .dataframe thead th {\n",
       "        text-align: right;\n",
       "    }\n",
       "</style>\n",
       "<table border=\"1\" class=\"dataframe\">\n",
       "  <thead>\n",
       "    <tr style=\"text-align: right;\">\n",
       "      <th></th>\n",
       "      <th>Year</th>\n",
       "      <th>variable</th>\n",
       "      <th>value</th>\n",
       "    </tr>\n",
       "  </thead>\n",
       "  <tbody>\n",
       "    <tr>\n",
       "      <th>0</th>\n",
       "      <td>2014</td>\n",
       "      <td>Q1</td>\n",
       "      <td>15438679.50</td>\n",
       "    </tr>\n",
       "    <tr>\n",
       "      <th>1</th>\n",
       "      <td>2015</td>\n",
       "      <td>Q1</td>\n",
       "      <td>16050601.38</td>\n",
       "    </tr>\n",
       "    <tr>\n",
       "      <th>2</th>\n",
       "      <td>2016</td>\n",
       "      <td>Q1</td>\n",
       "      <td>15943714.54</td>\n",
       "    </tr>\n",
       "    <tr>\n",
       "      <th>3</th>\n",
       "      <td>2017</td>\n",
       "      <td>Q1</td>\n",
       "      <td>15797965.83</td>\n",
       "    </tr>\n",
       "    <tr>\n",
       "      <th>4</th>\n",
       "      <td>2018</td>\n",
       "      <td>Q1</td>\n",
       "      <td>16096654.19</td>\n",
       "    </tr>\n",
       "  </tbody>\n",
       "</table>\n",
       "</div>"
      ],
      "text/plain": [
       "   Year variable        value\n",
       "0  2014       Q1  15438679.50\n",
       "1  2015       Q1  16050601.38\n",
       "2  2016       Q1  15943714.54\n",
       "3  2017       Q1  15797965.83\n",
       "4  2018       Q1  16096654.19"
      ]
     },
     "execution_count": 117,
     "metadata": {},
     "output_type": "execute_result"
    }
   ],
   "source": [
    "RealGDP_melt.head()"
   ]
  },
  {
   "cell_type": "code",
   "execution_count": 116,
   "metadata": {
    "scrolled": false
   },
   "outputs": [
    {
     "data": {
      "text/plain": [
       "<matplotlib.legend.Legend at 0x115d0031a60>"
      ]
     },
     "execution_count": 116,
     "metadata": {},
     "output_type": "execute_result"
    },
    {
     "data": {
      "image/png": "[encoded data removed]",
      "text/plain": [
       "<Figure size 720x720 with 1 Axes>"
      ]
     },
     "metadata": {},
     "output_type": "display_data"
    }
   ],
   "source": [
    "data = plt.subplots(figsize=(10,10))\n",
    "sns.barplot(x=\"Year\" , y= \"value\" , hue=\"variable\" ,data=RealGDP_melt).axhline(y=15890000)\n",
    "plt.legend(loc='lower left', title='variable')"
   ]
  },
  {
   "cell_type": "markdown",
   "metadata": {},
   "source": [
    "Comparing the Q2 GDP of 2019 with Q2 of 2020 , there is a drastic reduction of GDP between the two quarters.\n",
    "Also, Q3 GDP of 2019 and Q3 GDP of 2020 shows that there is reduction in GDP.\n",
    "Since GDP is affected by the rate of overall economic activities in a the country,\n",
    "The Covid-19 pandemic , coupled with the imposition of lockdown and restriction of international and domestic travel,\n",
    "has caused a decrease in GDP between the second quarter of 2019 and tthird quarter of 2020,\n",
    "this implies that Covid-19 pandemic have negative effect on the GDP of Nigeria."
   ]
  },
  {
   "cell_type": "markdown",
   "metadata": {},
   "source": [
    "### Note: Do not limit your analysis to the provided TODOs. Perform more analyses e.g \n",
    "* Check for more external dataset\n",
    "* Ask more questions & find the right answers by exploring the data"
   ]
  },
  {
   "cell_type": "code",
   "execution_count": 139,
   "metadata": {},
   "outputs": [
    {
     "data": {
      "text/plain": [
       "States Affected                 LagosFCTKadunaPlateauOyoRiversEdoOgunKanoDelta...\n",
       "No. of Cases (Lab Confirmed)                                              77662.0\n",
       "No. of Cases (on admission)                                                8646.0\n",
       "No. Discharged                                                            67824.0\n",
       "No. of Deaths                                                                1192\n",
       "states                          LagosFCTKadunaPlateauOyoRiversEdoOgunKanoDelta...\n",
       "region                          South WestNorth CentralNorth WestNorth Central...\n",
       "Population                                                              204195000\n",
       "Overall CCVI Index                                                           17.1\n",
       "Age                                                                          17.7\n",
       "Epidemiological                                                              17.2\n",
       "Fragility                                                                    16.2\n",
       "Health System                                                                17.7\n",
       "Population Density                                                           17.8\n",
       "Socio-Economic                                                               16.6\n",
       " Transport Availability                                                      16.6\n",
       "Acute IHR                                                                    32.6\n",
       "%confirmed                                                                  100.0\n",
       "%No. of Deaths                                                              100.0\n",
       "%cases confirmed                                                            100.0\n",
       "dtype: object"
      ]
     },
     "execution_count": 139,
     "metadata": {},
     "output_type": "execute_result"
    }
   ],
   "source": [
    "merged_covid.sum()"
   ]
  },
  {
   "cell_type": "code",
   "execution_count": 166,
   "metadata": {},
   "outputs": [],
   "source": [
    "#Adding some new columns to merged_covid dataframe\n",
    "merged_covid['%cases confirmed'] = merged_covid['No. of Cases (Lab Confirmed)']* 100/77662.0\n",
    "merged_covid['%No. of Deaths'] = merged_covid['No. of Deaths']* 100/1192\n",
    "merged_covid['case-to-population per million']=merged_covid['No. of Cases (Lab Confirmed)']/merged_covid['Population']*1000000"
   ]
  },
  {
   "cell_type": "code",
   "execution_count": 167,
   "metadata": {},
   "outputs": [
    {
     "data": {
      "text/html": [
       "<div>\n",
       "<style scoped>\n",
       "    .dataframe tbody tr th:only-of-type {\n",
       "        vertical-align: middle;\n",
       "    }\n",
       "\n",
       "    .dataframe tbody tr th {\n",
       "        vertical-align: top;\n",
       "    }\n",
       "\n",
       "    .dataframe thead th {\n",
       "        text-align: right;\n",
       "    }\n",
       "</style>\n",
       "<table border=\"1\" class=\"dataframe\">\n",
       "  <thead>\n",
       "    <tr style=\"text-align: right;\">\n",
       "      <th></th>\n",
       "      <th>States Affected</th>\n",
       "      <th>No. of Cases (Lab Confirmed)</th>\n",
       "      <th>No. of Cases (on admission)</th>\n",
       "      <th>No. Discharged</th>\n",
       "      <th>No. of Deaths</th>\n",
       "      <th>states</th>\n",
       "      <th>region</th>\n",
       "      <th>Population</th>\n",
       "      <th>Overall CCVI Index</th>\n",
       "      <th>Age</th>\n",
       "      <th>...</th>\n",
       "      <th>Health System</th>\n",
       "      <th>Population Density</th>\n",
       "      <th>Socio-Economic</th>\n",
       "      <th>Transport Availability</th>\n",
       "      <th>Acute IHR</th>\n",
       "      <th>%confirmed</th>\n",
       "      <th>%No. of Deaths</th>\n",
       "      <th>%cases confirmed</th>\n",
       "      <th>case-to-population</th>\n",
       "      <th>case-to-population per million</th>\n",
       "    </tr>\n",
       "  </thead>\n",
       "  <tbody>\n",
       "    <tr>\n",
       "      <th>0</th>\n",
       "      <td>Lagos</td>\n",
       "      <td>26708.0</td>\n",
       "      <td>2435.0</td>\n",
       "      <td>24037.0</td>\n",
       "      <td>236</td>\n",
       "      <td>Lagos</td>\n",
       "      <td>South West</td>\n",
       "      <td>13992000</td>\n",
       "      <td>0.0</td>\n",
       "      <td>0.1</td>\n",
       "      <td>...</td>\n",
       "      <td>0.1</td>\n",
       "      <td>1.0</td>\n",
       "      <td>0.1</td>\n",
       "      <td>0.4</td>\n",
       "      <td>0.93</td>\n",
       "      <td>34.390049</td>\n",
       "      <td>19.798658</td>\n",
       "      <td>34.390049</td>\n",
       "      <td>1908.805031</td>\n",
       "      <td>1908.805031</td>\n",
       "    </tr>\n",
       "    <tr>\n",
       "      <th>1</th>\n",
       "      <td>FCT</td>\n",
       "      <td>9627.0</td>\n",
       "      <td>2840.0</td>\n",
       "      <td>6694.0</td>\n",
       "      <td>93</td>\n",
       "      <td>FCT</td>\n",
       "      <td>North Central</td>\n",
       "      <td>4865000</td>\n",
       "      <td>0.3</td>\n",
       "      <td>0.0</td>\n",
       "      <td>...</td>\n",
       "      <td>0.6</td>\n",
       "      <td>0.9</td>\n",
       "      <td>0.6</td>\n",
       "      <td>0.2</td>\n",
       "      <td>0.79</td>\n",
       "      <td>12.396024</td>\n",
       "      <td>7.802013</td>\n",
       "      <td>12.396024</td>\n",
       "      <td>1978.828366</td>\n",
       "      <td>1978.828366</td>\n",
       "    </tr>\n",
       "    <tr>\n",
       "      <th>2</th>\n",
       "      <td>Kaduna</td>\n",
       "      <td>4504.0</td>\n",
       "      <td>579.0</td>\n",
       "      <td>3877.0</td>\n",
       "      <td>48</td>\n",
       "      <td>Kaduna</td>\n",
       "      <td>North West</td>\n",
       "      <td>9227000</td>\n",
       "      <td>0.7</td>\n",
       "      <td>0.1</td>\n",
       "      <td>...</td>\n",
       "      <td>0.9</td>\n",
       "      <td>0.4</td>\n",
       "      <td>0.6</td>\n",
       "      <td>0.4</td>\n",
       "      <td>0.86</td>\n",
       "      <td>5.799490</td>\n",
       "      <td>4.026846</td>\n",
       "      <td>5.799490</td>\n",
       "      <td>488.132654</td>\n",
       "      <td>488.132654</td>\n",
       "    </tr>\n",
       "    <tr>\n",
       "      <th>3</th>\n",
       "      <td>Plateau</td>\n",
       "      <td>4262.0</td>\n",
       "      <td>280.0</td>\n",
       "      <td>3948.0</td>\n",
       "      <td>34</td>\n",
       "      <td>Plateau</td>\n",
       "      <td>North Central</td>\n",
       "      <td>4766000</td>\n",
       "      <td>0.4</td>\n",
       "      <td>0.5</td>\n",
       "      <td>...</td>\n",
       "      <td>0.3</td>\n",
       "      <td>0.3</td>\n",
       "      <td>0.5</td>\n",
       "      <td>0.3</td>\n",
       "      <td>0.93</td>\n",
       "      <td>5.487883</td>\n",
       "      <td>2.852349</td>\n",
       "      <td>5.487883</td>\n",
       "      <td>894.250944</td>\n",
       "      <td>894.250944</td>\n",
       "    </tr>\n",
       "    <tr>\n",
       "      <th>4</th>\n",
       "      <td>Oyo</td>\n",
       "      <td>3788.0</td>\n",
       "      <td>368.0</td>\n",
       "      <td>3374.0</td>\n",
       "      <td>46</td>\n",
       "      <td>Oyo</td>\n",
       "      <td>South West</td>\n",
       "      <td>8737000</td>\n",
       "      <td>0.2</td>\n",
       "      <td>0.7</td>\n",
       "      <td>...</td>\n",
       "      <td>0.8</td>\n",
       "      <td>0.6</td>\n",
       "      <td>0.2</td>\n",
       "      <td>0.3</td>\n",
       "      <td>1.06</td>\n",
       "      <td>4.877546</td>\n",
       "      <td>3.859060</td>\n",
       "      <td>4.877546</td>\n",
       "      <td>433.558430</td>\n",
       "      <td>433.558430</td>\n",
       "    </tr>\n",
       "  </tbody>\n",
       "</table>\n",
       "<p>5 rows × 22 columns</p>\n",
       "</div>"
      ],
      "text/plain": [
       "  States Affected  No. of Cases (Lab Confirmed)  No. of Cases (on admission)  \\\n",
       "0           Lagos                       26708.0                       2435.0   \n",
       "1             FCT                        9627.0                       2840.0   \n",
       "2          Kaduna                        4504.0                        579.0   \n",
       "3         Plateau                        4262.0                        280.0   \n",
       "4             Oyo                        3788.0                        368.0   \n",
       "\n",
       "   No. Discharged  No. of Deaths   states         region  Population  \\\n",
       "0         24037.0            236    Lagos     South West    13992000   \n",
       "1          6694.0             93      FCT  North Central     4865000   \n",
       "2          3877.0             48   Kaduna     North West     9227000   \n",
       "3          3948.0             34  Plateau  North Central     4766000   \n",
       "4          3374.0             46      Oyo     South West     8737000   \n",
       "\n",
       "   Overall CCVI Index  Age  ...  Health System  Population Density  \\\n",
       "0                 0.0  0.1  ...            0.1                 1.0   \n",
       "1                 0.3  0.0  ...            0.6                 0.9   \n",
       "2                 0.7  0.1  ...            0.9                 0.4   \n",
       "3                 0.4  0.5  ...            0.3                 0.3   \n",
       "4                 0.2  0.7  ...            0.8                 0.6   \n",
       "\n",
       "   Socio-Economic   Transport Availability  Acute IHR  %confirmed  \\\n",
       "0             0.1                      0.4       0.93   34.390049   \n",
       "1             0.6                      0.2       0.79   12.396024   \n",
       "2             0.6                      0.4       0.86    5.799490   \n",
       "3             0.5                      0.3       0.93    5.487883   \n",
       "4             0.2                      0.3       1.06    4.877546   \n",
       "\n",
       "   %No. of Deaths  %cases confirmed  case-to-population  \\\n",
       "0       19.798658         34.390049         1908.805031   \n",
       "1        7.802013         12.396024         1978.828366   \n",
       "2        4.026846          5.799490          488.132654   \n",
       "3        2.852349          5.487883          894.250944   \n",
       "4        3.859060          4.877546          433.558430   \n",
       "\n",
       "   case-to-population per million  \n",
       "0                     1908.805031  \n",
       "1                     1978.828366  \n",
       "2                      488.132654  \n",
       "3                      894.250944  \n",
       "4                      433.558430  \n",
       "\n",
       "[5 rows x 22 columns]"
      ]
     },
     "execution_count": 167,
     "metadata": {},
     "output_type": "execute_result"
    }
   ],
   "source": [
    "merged_covid.head()"
   ]
  },
  {
   "cell_type": "markdown",
   "metadata": {},
   "source": [
    "###### Summary from the dataframe merged_covid after some columns were calculated  and added to it\n",
    "Considering \"the percentage number of confirmed cases\"  and \"the percentage number of deaths\" , \n",
    "A new column was created to calculate the percentage confirmed cases of each state to the total number of state,\n",
    "while another column was created for the percentage number of deaths to the total number of death.\n",
    "\n",
    "* Lagos State has about 34% of the total confirmed cases , 20% of the total deaths.\n",
    "* Abuja which has about 12% of total confirmed cases and about 8% of the total deaths.\n",
    "* Other states also followed a similar trend of having percentage of confirmed cases higher than \n",
    "  the percentage death, however , some states such as Rivers , Edo , kano ,Delta,Katsina and some few states have \n",
    "  a higher percentage of deaths than percentage confirmed cases.\n",
    "\n",
    "\n",
    "###### Also, a new column was created to calculate the number of confirmed cases per million people.\n",
    "* Abuja lead with about 1979 confirmed cases per 1000000\n",
    "* Lagos followed with about 1909 confirmed cases to 1000000 person\n",
    "* While Kogi state has 1 confirmed case per million , the least confirmed-cases-per-milion\n",
    "\n"
   ]
  },
  {
   "cell_type": "code",
   "execution_count": 169,
   "metadata": {},
   "outputs": [
    {
     "data": {
      "image/png": "[encoded data removed]",
      "text/plain": [
       "<Figure size 1800x720 with 2 Axes>"
      ]
     },
     "metadata": {},
     "output_type": "display_data"
    }
   ],
   "source": [
    "#PLOT OF \"percentage number of confirmed cases to total number of confirmed cases\" and\n",
    "#        \"Percentage number of death of each state to the overall number of deaths\" on the same axis\n",
    "fig = plt.figure(figsize=(25, 10))\n",
    "ax1 = fig.add_subplot()\n",
    "ax1.plot(merged_covid.loc[: , 'States Affected'] , merged_covid.loc[: , '%cases confirmed'])\n",
    "ax1.set_ylabel('%cases confirmed')\n",
    "\n",
    "ax2 = ax1.twinx()\n",
    "ax2.plot(merged_covid.loc[: , 'States Affected'], merged_covid.loc[: , '%No. of Deaths'], 'r-')\n",
    "ax2.set_ylabel('%No. of Deaths', color='r')\n",
    "for tl in ax2.get_yticklabels():\n",
    "    tl.set_color('r')\n",
    "\n",
    "plt.savefig('% CONFIRMED VS % DEATH.png')"
   ]
  },
  {
   "cell_type": "markdown",
   "metadata": {},
   "source": [
    "* The regression plot of number of cases confirmed and the number of deaths shows a positive relationship.\n",
    "That is , The higher the number of cases, the higher the number of deaths.\n",
    "However the lineplots of \"percentage number of confirmed cases to total number of confirmed cases\" and\n",
    "\"Percentage number of death of each state to the overall number of deaths\" on the same axis shows a similar trend,\n",
    "but some states such as Edo , Kano , Borno , Bayelsa and Adamawa showed  spikes in the number of deaths, this is expected to\n",
    "be caused by some other factors."
   ]
  },
  {
   "cell_type": "code",
   "execution_count": null,
   "metadata": {},
   "outputs": [],
   "source": []
  }
 ],
 "metadata": {
  "kernelspec": {
   "display_name": "Python 3 (ipykernel)",
   "language": "python",
   "name": "python3"
  },
  "language_info": {
   "codemirror_mode": {
    "name": "ipython",
    "version": 3
   },
   "file_extension": ".py",
   "mimetype": "text/x-python",
   "name": "python",
   "nbconvert_exporter": "python",
   "pygments_lexer": "ipython3",
   "version": "3.9.7"
  }
 },
 "nbformat": 4,
 "nbformat_minor": 2
}
